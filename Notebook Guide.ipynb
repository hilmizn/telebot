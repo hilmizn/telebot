{
 "cells": [
  {
   "cell_type": "markdown",
   "metadata": {
    "cell_id": "00000-e164a930-6a17-402e-ae1f-a4f502f191e8",
    "deepnote_cell_type": "markdown",
    "tags": []
   },
   "source": [
    "# Capstone Telegram Chatbot"
   ]
  },
  {
   "attachments": {},
   "cell_type": "markdown",
   "metadata": {
    "cell_id": "00001-5bd5ce8f-c78f-4e82-9290-6b796df69c35",
    "deepnote_cell_type": "markdown",
    "tags": []
   },
   "source": [
    "This notebook is used to guide you in working on building the Telegram chatbot apps for Algoritma Academy Data Analytics Specialization Capstone Project.\n",
    "\n",
    "**MAIN GOAL:** Create a bot that can provide report on Facebook daily ads for different marketing campaign. Here is an example: http://t.me/capstone_da_bot\n",
    "\n",
    "![](assets/readme/telegram-bot.png)\n",
    "\n",
    "---\n",
    "\n",
    "There are several conventions we used in this notebook:\n",
    "\n",
    "- **TO DO** = Section need to be completed\n",
    "- **EXPECTED OUTPUT** = Reference output for coding section\n",
    "- **CHECKPOINT** = Review and continue your coding in the Python script file `.py`\n",
    "- **NOTE** = Additional information that is important for you to know"
   ]
  },
  {
   "cell_type": "markdown",
   "metadata": {
    "cell_id": "00002-9a9b3a5c-c35a-49c7-836b-fb72a980e492",
    "deepnote_cell_type": "markdown",
    "tags": []
   },
   "source": [
    "# Setup"
   ]
  },
  {
   "cell_type": "markdown",
   "metadata": {
    "cell_id": "00003-aaee0fd4-9241-4f9b-878d-ccab05ad9044",
    "deepnote_cell_type": "markdown",
    "tags": []
   },
   "source": [
    "## Virtual Environment"
   ]
  },
  {
   "attachments": {},
   "cell_type": "markdown",
   "metadata": {
    "cell_id": "00004-799cf6bf-d386-4c85-874e-3dac3baa5aa4",
    "deepnote_cell_type": "markdown",
    "tags": []
   },
   "source": [
    "There are few prerequisites needed for this project. First, you will need to prepare a new `conda` environment installed with all package dependencies. \n",
    "\n",
    "**TO DO:**\n",
    "\n",
    "Please follow through with the following command to create a new `conda` environment and install the dependencies:\n",
    "\n",
    "1. Open your Visual Studio Code terminal and create a new `conda` environment named **capstone-telebot** using Python version 3.10:\n",
    "    ```\n",
    "    conda create -n capstone-telebot python=3.10\n",
    "    ```\n",
    "\n",
    "2. Activate your newly created `conda` environment:\n",
    "    ```\n",
    "    conda activate capstone-telebot\n",
    "    ```\n",
    "\n",
    "3. Install the dependencies:\n",
    "    ```\n",
    "    pip install -r requirements.txt\n",
    "    ```\n",
    "\n",
    "    If you encounter an error during installation, make sure you have a stable connection and turn off your firewall during installation. "
   ]
  },
  {
   "cell_type": "markdown",
   "metadata": {
    "cell_id": "00005-b3e4b6fd-e12f-47f4-983a-347bea1eff5d",
    "deepnote_cell_type": "markdown",
    "tags": []
   },
   "source": [
    "## Telegram Bot API"
   ]
  },
  {
   "cell_type": "markdown",
   "metadata": {
    "cell_id": "00006-96e136b1-bab4-43b8-82d4-a94239e5895c",
    "deepnote_cell_type": "markdown",
    "tags": []
   },
   "source": [
    "**API** stands for *Application Programming Interface*. It is a set of functions and procedures that allow for the creation of applications that access data and features of other applications, services, or operating systems. \n",
    "\n",
    "Telegram allows user to connect bots to their system by providing **Telegram Bot API**. Even better, to create bots in Telegram, you're not required set up the API connection manually. All you need to do is to talk to [BotFather](https://t.me/botfather), a bot provided by Telegram to help their users to create new bots or change the bots settings.\n",
    "\n",
    "**TO DO:**\n",
    "\n",
    "To get started, make sure you have registered a Telegram account from your mobile phone (you can't create new Telegram account through its desktop app). Once you've registered, you can access its desktop app through  https://web.telegram.org/ and follow the steps below:\n",
    "\n",
    "1. Start a chat with [BotFather](https://t.me/botfather)\n",
    "2. Use the **/newbot** command to create a new bot. The BotFather will ask you for a name and username. For the username, make sure you follow this format: **DACP\\_(BATCH)_(NAME)_BOT** e.g. DACP_PHOENIX_TOMY_BOT.\n",
    "3. Once you've completed, BotFather will generate an authorization token for your new bot. **NOTE:** Please do treat your token as your personal password, keep it secure by not sharing it to another person.\n",
    "4. Optionally, you can set your bot information using the following commands:\n",
    "    - **/setdescription** - change bot description\n",
    "    - **/setabouttext** - change bot about info\n",
    "    - **/setuserpic** - change bot profile photo"
   ]
  },
  {
   "cell_type": "markdown",
   "metadata": {
    "cell_id": "00007-dc2b3e58-af0e-4742-a540-9acf9dbb1ea8",
    "deepnote_cell_type": "markdown",
    "tags": []
   },
   "source": [
    "## Store Your Token Securely"
   ]
  },
  {
   "cell_type": "markdown",
   "metadata": {
    "cell_id": "00008-baa4d43f-4ba3-4861-97e0-cc847c7346c8",
    "deepnote_cell_type": "markdown",
    "tags": []
   },
   "source": [
    "The program will later need to access Telegram bot API via token. Usually we store a value as a variable explicitly, for example: `variable = \"value\"`. \n",
    "\n",
    "**TO DO:**\n",
    "\n",
    "To avoid the token being hardcoded and exposed to the public, you are required to create an environment variable called `TOKEN`:\n",
    "\n",
    "1. Inside the project folder, create a new file named `.env`\n",
    "2. Open the `.env` file using any kind of text editor application, such as notepad\n",
    "3. Paste your API token inside and assign it to `TOKEN`\n",
    "\n",
    "    ```\n",
    "    TOKEN = \"PASTE_YOUR_TOKEN_HERE\"\n",
    "    ```\n",
    "\n",
    "4. Use the following code to import the `TOKEN` variable from `.env` to your Python environment."
   ]
  },
  {
   "cell_type": "code",
   "execution_count": 1,
   "metadata": {
    "cell_id": "00009-0566b61e-fb7a-499b-b969-1ab0b2de8ae2",
    "deepnote_cell_type": "code",
    "deepnote_to_be_reexecuted": false,
    "execution_millis": 10,
    "execution_start": 1629360585861,
    "output_cleared": true,
    "source_hash": "df4fd229",
    "tags": []
   },
   "outputs": [
    {
     "name": "stdout",
     "output_type": "stream",
     "text": [
      "Length of TOKEN: 46 characters\n"
     ]
    }
   ],
   "source": [
    "from dotenv import load_dotenv\n",
    "import os\n",
    "\n",
    "load_dotenv()\n",
    "TOKEN = os.environ['TOKEN']\n",
    "\n",
    "print(f'Length of TOKEN: {len(TOKEN)} characters')"
   ]
  },
  {
   "cell_type": "markdown",
   "metadata": {
    "cell_id": "00010-884255d1-a9da-4079-8679-5857655e294d",
    "deepnote_cell_type": "markdown",
    "tags": []
   },
   "source": [
    "**EXPECTED OUTPUT:**\n",
    "\n",
    "```\n",
    "Length of TOKEN: 46 characters\n",
    "```\n",
    "\n",
    "**NOTE:** Don't ever print out the `TOKEN` variable inside your notebook to avoid exposing your API token to the public.\n",
    "\n",
    "> Package dependencies: [python-dotenv](https://pypi.org/project/python-dotenv/)"
   ]
  },
  {
   "cell_type": "markdown",
   "metadata": {
    "cell_id": "00011-1cf7f460-a362-42a2-a0f3-5f6785697f90",
    "deepnote_cell_type": "markdown",
    "tags": []
   },
   "source": [
    "# Chatbot Functionalities"
   ]
  },
  {
   "cell_type": "markdown",
   "metadata": {
    "cell_id": "00012-4177651a-ba68-42c9-b340-09f2cbeba565",
    "deepnote_cell_type": "markdown",
    "tags": []
   },
   "source": [
    "## Basic Functionalities"
   ]
  },
  {
   "cell_type": "markdown",
   "metadata": {
    "cell_id": "00013-2ee858a3-d151-4b1b-8324-7fdc59e2927c",
    "deepnote_cell_type": "markdown",
    "tags": []
   },
   "source": [
    "In this section, we are going to learn how to create a Telegram chatbot using the `pyTelegramBotAPI` package."
   ]
  },
  {
   "cell_type": "markdown",
   "metadata": {
    "cell_id": "00014-49690a03-0522-474b-9045-a101124c5555",
    "deepnote_cell_type": "markdown",
    "tags": []
   },
   "source": [
    "### Simple bot"
   ]
  },
  {
   "cell_type": "markdown",
   "metadata": {
    "cell_id": "00015-b54813ba-3d1f-4b58-8899-472c79aba7e3",
    "deepnote_cell_type": "markdown",
    "tags": []
   },
   "source": [
    "The `TeleBot` class encapsulates all API calls in a single class. It provides functions such as `send_message`, `send_document`, and also several ways to listen for incoming messages."
   ]
  },
  {
   "cell_type": "code",
   "execution_count": 2,
   "metadata": {
    "cell_id": "00016-955b477c-0e76-45c1-baef-27a3542ddbb5",
    "deepnote_cell_type": "code",
    "deepnote_to_be_reexecuted": false,
    "execution_millis": 0,
    "execution_start": 1629360585862,
    "output_cleared": true,
    "source_hash": "cc0c6d4b",
    "tags": []
   },
   "outputs": [],
   "source": [
    "import telebot\n",
    "bot = telebot.TeleBot(TOKEN)"
   ]
  },
  {
   "cell_type": "markdown",
   "metadata": {
    "cell_id": "00017-f0163671-9282-4e0a-8dec-6d77af2559f0",
    "deepnote_cell_type": "markdown",
    "tags": []
   },
   "source": [
    "After defining the `bot` object, we need to register **message handlers** which define filters for a `message` must pass. If a `message` passes the filter, the function is triggered and the incoming `message` is passed as an argument.\n",
    "\n",
    "The code below define `send_welcome` function which will be called if a user triggers the `bot` with command **/start** or **/help**. Then, `bot` responds to the incoming `message` by sending a static `\"Hello World!\"` text message.\n",
    "\n",
    "**NOTE:** The function can have an arbitrary name, however, it must have only one parameter: `message`"
   ]
  },
  {
   "cell_type": "code",
   "execution_count": 3,
   "metadata": {
    "cell_id": "00018-291cc15c-e8cb-4c6c-98ad-41e84205147f",
    "deepnote_cell_type": "code",
    "deepnote_to_be_reexecuted": false,
    "execution_millis": 0,
    "execution_start": 1629360585862,
    "output_cleared": true,
    "source_hash": "979a847d",
    "tags": []
   },
   "outputs": [],
   "source": [
    "@bot.message_handler(commands=['start', 'help'])\n",
    "def send_welcome(message):\n",
    "    bot.reply_to(message, \"Hello World!\")"
   ]
  },
  {
   "cell_type": "markdown",
   "metadata": {
    "cell_id": "00019-64939062-f512-4912-ba29-db200ee03a05",
    "deepnote_cell_type": "markdown",
    "tags": []
   },
   "source": [
    "We use `.polling()` method to start the `bot`. Run the following cell code and try sending command **/start** or **/help** to your Telegram bot. The code must be running to keep the bot active. If you wish to run another cell code, please click the \"⬛\" button to stop the code execution."
   ]
  },
  {
   "cell_type": "code",
   "execution_count": 4,
   "metadata": {
    "cell_id": "00020-a469c286-31d8-4126-89e6-9029f9ba440c",
    "deepnote_cell_type": "code",
    "deepnote_to_be_reexecuted": false,
    "execution_millis": 22,
    "execution_start": 1629360585863,
    "output_cleared": true,
    "source_hash": "639da4b0",
    "tags": []
   },
   "outputs": [],
   "source": [
    "bot.polling()"
   ]
  },
  {
   "cell_type": "markdown",
   "metadata": {
    "cell_id": "00021-c55308df-af6c-4b79-b2ab-0de595002121",
    "deepnote_cell_type": "markdown",
    "tags": []
   },
   "source": [
    "All together, a simple bot may only contain several lines of code as follows:\n",
    "\n",
    "```python\n",
    "import telebot\n",
    "bot = telebot.TeleBot(TOKEN)\n",
    "\n",
    "@bot.message_handler(commands=['start', 'help'])\n",
    "def send_welcome(message):\n",
    "    bot.reply_to(message, \"Hello World!\")\n",
    "\n",
    "bot.polling()\n",
    "```\n",
    "\n",
    "> Package dependencies: [pyTelegramBotAPI](https://github.com/eternnoir/pyTelegramBotAPI)"
   ]
  },
  {
   "cell_type": "markdown",
   "metadata": {
    "cell_id": "00022-b543afa9-d8a7-4fcc-aced-a3ed6688ecdc",
    "deepnote_cell_type": "markdown",
    "tags": []
   },
   "source": [
    "### Understanding Message Object"
   ]
  },
  {
   "cell_type": "markdown",
   "metadata": {
    "cell_id": "00023-cc4c44d7-97a6-4639-aeba-ac8ff5125a3e",
    "deepnote_cell_type": "markdown",
    "tags": []
   },
   "source": [
    "Of course, at this point, we are not satisfied with a simple bot that just sends static text like the one we have created above. To interact dynamically with user information, let's dive deep to understand what a `message` object is.\n",
    "\n",
    "To make it easier for you to play around, we have pickled a `message` object namely `message_object.pkl`. It is an object of class `telebot.types.Message` which stores a lot of information from a message. Detailed description can be found on [Telegram Bot API Documentation: Message](https://core.telegram.org/bots/api#message)."
   ]
  },
  {
   "cell_type": "code",
   "execution_count": 5,
   "metadata": {
    "cell_id": "00024-bead9717-469c-40e5-be42-fcfe42964011",
    "deepnote_cell_type": "code",
    "deepnote_to_be_reexecuted": false,
    "execution_millis": 14,
    "execution_start": 1629360585885,
    "output_cleared": true,
    "source_hash": "e0f56210",
    "tags": []
   },
   "outputs": [
    {
     "name": "stdout",
     "output_type": "stream",
     "text": [
      "<class 'telebot.types.Message'>\n",
      "{'content_type': 'text', 'id': 204, 'message_id': 204, 'from_user': {'id': 727286868, 'is_bot': False, 'first_name': 'Algoritma', 'username': 'AlgoCapstone', 'last_name': None, 'language_code': 'en', 'can_join_groups': None, 'can_read_all_group_messages': None, 'supports_inline_queries': None}, 'date': 1622745226, 'chat': {'id': 727286868, 'type': 'private', 'title': None, 'username': 'AlgoCapstone', 'first_name': 'Algoritma', 'last_name': None, 'photo': None, 'bio': None, 'description': None, 'invite_link': None, 'pinned_message': None, 'permissions': None, 'slow_mode_delay': None, 'sticker_set_name': None, 'can_set_sticker_set': None, 'linked_chat_id': None, 'location': None}, 'forward_from': None, 'forward_from_chat': None, 'forward_from_message_id': None, 'forward_signature': None, 'forward_sender_name': None, 'forward_date': None, 'reply_to_message': None, 'edit_date': None, 'media_group_id': None, 'author_signature': None, 'text': '/help', 'entities': [<telebot.types.MessageEntit\n"
     ]
    }
   ],
   "source": [
    "import pickle\n",
    "\n",
    "with open('cache/message_object.pkl', 'rb') as f:\n",
    "    message = pickle.load(f)\n",
    "    print(type(message)) # print object type\n",
    "    print(str(message)[:1000]) # print only the first 1000 characters of message content"
   ]
  },
  {
   "cell_type": "markdown",
   "metadata": {},
   "source": [
    "The `message` object is similar to Python dictionary, it stores **key: value** pairs. To access a value inside `message` object, we can use a dot notation (`.`) - just like accessing an attribute. Consider the following:\n",
    "\n",
    "```{python}\n",
    "{\n",
    "    'from_user': {\n",
    "        'id': 727286868,\n",
    "        'is_bot': False,\n",
    "        'first_name': 'Algoritma',\n",
    "        'username': 'AlgoCapstone',\n",
    "        'last_name': None\n",
    "        }\n",
    "}\n",
    "```\n",
    "\n",
    "For example: let's say we want to get the username \"AlgoCapstone\", then we can use `message.from_user.username`"
   ]
  },
  {
   "cell_type": "code",
   "execution_count": 6,
   "metadata": {},
   "outputs": [
    {
     "data": {
      "text/plain": [
       "'AlgoCapstone'"
      ]
     },
     "execution_count": 6,
     "metadata": {},
     "output_type": "execute_result"
    }
   ],
   "source": [
    "# play around with the message object\n",
    "message.from_user.username"
   ]
  },
  {
   "cell_type": "markdown",
   "metadata": {
    "cell_id": "00025-1a957d08-4e96-4ef8-859d-4344df18feae",
    "deepnote_cell_type": "markdown",
    "tags": []
   },
   "source": [
    "Next, we need to extract several attributes from the `message` object:\n",
    "\n",
    "- Attribute `chat`: Conversation the message belongs to.\n",
    "- Attribute `from_user`: Detailed user information of the sender, such as `id`, `username`, `first_name`, `last_name`, etc.\n",
    "- Attribute `text`: Text messages that the sender sends to the bot.\n",
    "\n",
    "**TO DO:**\n",
    "\n",
    "Try to create the following variables, containing the relevant information from a `message` object:\n",
    "\n",
    "- Variable `chat_id`: contains `id` which is an unique identifier of attribute `chat`, will be used when sending a chat.\n",
    "- Variable `full_name`: contains the full name (`first_name` and `last_name`) of the sender, but if the `last_name` is `None` then it only contains the `first_name`.\n",
    "- Variable `message_text`: contains the `text` of the sender's message."
   ]
  },
  {
   "cell_type": "code",
   "execution_count": 7,
   "metadata": {
    "cell_id": "00026-9665f9a0-5544-4f85-9594-cc7bd5c37b86",
    "deepnote_cell_type": "code",
    "deepnote_to_be_reexecuted": false,
    "execution_millis": 64,
    "execution_start": 1629360585886,
    "output_cleared": true,
    "source_hash": "d0d506fc",
    "tags": []
   },
   "outputs": [
    {
     "name": "stdout",
     "output_type": "stream",
     "text": [
      "Chat ID: 727286868\n",
      "Sender Full Name: Algoritma\n",
      "Message: /help\n"
     ]
    }
   ],
   "source": [
    "# TO DO: chat_id, full_name, message_text\n",
    "chat_id = message.chat.id\n",
    "\n",
    "first_name = message.from_user.first_name\n",
    "last_name = message.from_user.last_name\n",
    "full_name = f'{first_name} {last_name}' if last_name is not None else first_name\n",
    "\n",
    "message_text = message.text\n",
    "\n",
    "\n",
    "# DO NOT EDIT (FOR CHECKING PURPOSE)\n",
    "print(f\"Chat ID: {chat_id}\")\n",
    "print(f\"Sender Full Name: {full_name}\")\n",
    "print(f\"Message: {message_text}\")"
   ]
  },
  {
   "cell_type": "markdown",
   "metadata": {
    "cell_id": "00027-764763cf-37cf-4c54-ae47-3afb69397b4d",
    "deepnote_cell_type": "markdown",
    "tags": []
   },
   "source": [
    "**EXPECTED OUTPUT**\n",
    "\n",
    "```\n",
    "Chat ID: 727286868\n",
    "Sender Full Name: Algoritma\n",
    "Message: /help\n",
    "```"
   ]
  },
  {
   "cell_type": "markdown",
   "metadata": {
    "cell_id": "00028-9ee36a57-4421-4270-b4bc-0baf1f3ec85b",
    "deepnote_cell_type": "markdown",
    "tags": []
   },
   "source": [
    "### Understanding `Template` text"
   ]
  },
  {
   "cell_type": "markdown",
   "metadata": {
    "cell_id": "00029-ef649889-6f36-469a-931b-4b2385ab4576",
    "deepnote_cell_type": "markdown",
    "tags": []
   },
   "source": [
    "A chatbot will usually reply to your message with a template text. The text can be explicitly written in script code as a string like `\"Hello World!\"` as we wrote earlier. When the text is too long, it is not a good practice because we have to scan through our code when we want to make a small change in the text.\n",
    "\n",
    "A common good practice is that we prepare `.txt` file containing a template text then Python will read the file and process it as a string. The following snippet text is from `template_text/example.txt`:\n",
    "\n",
    "```\n",
    "This is an example file. You can substitute a key with a value: ${KEY}. Try to read this file using Python.\n",
    "```\n",
    "\n",
    "The syntax `${KEY}` is used to indicate which part of the text that will be substituted. The code below shows how we can read a text file, parse it into a `Template` object, and then substitute the variable with a value."
   ]
  },
  {
   "cell_type": "code",
   "execution_count": 8,
   "metadata": {},
   "outputs": [
    {
     "name": "stdout",
     "output_type": "stream",
     "text": [
      "This is an example file. You can substitute a key with a value: The KEY will be substituted. Try to read this file using Python.\n"
     ]
    }
   ],
   "source": [
    "from string import Template\n",
    "\n",
    "# read text from folder template_text, file example.txt\n",
    "with open('template_text/example.txt', mode='r', encoding='utf-8') as f:\n",
    "    content = f.read()\n",
    "    temp = Template(content)\n",
    "    example = temp.substitute(KEY = \"The KEY will be substituted\")\n",
    "\n",
    "print(example)"
   ]
  },
  {
   "cell_type": "markdown",
   "metadata": {},
   "source": [
    "**TO DO:**\n",
    "\n",
    "Try to substitute `${FULL_NAME}` from `template_text/welcome.txt`. Be careful! Instead of substituting it with a static text, such as `FULL_NAME = \"Algoritma\"`, try substituting it with `full_name` variable that you've created in the previous section."
   ]
  },
  {
   "cell_type": "code",
   "execution_count": 9,
   "metadata": {
    "cell_id": "00030-ea5d7107-b3b2-4db4-a7ff-7034ed0fab79",
    "deepnote_cell_type": "code",
    "deepnote_to_be_reexecuted": false,
    "execution_millis": 23,
    "execution_start": 1629360585927,
    "output_cleared": true,
    "source_hash": "851cfb7",
    "tags": []
   },
   "outputs": [
    {
     "name": "stdout",
     "output_type": "stream",
     "text": [
      "Hello *Algoritma*, I can help you to provide a report on Facebook daily ads for different marketing campaigns.\n",
      "\n",
      "You can control me by sending these commands:\n",
      "\n",
      "*Main Functionality*\n",
      "/summary - Generate text report for selected campaign ID\n",
      "/plot - Visualize report per age group for selected campaign ID\n",
      "\n",
      "*Information*\n",
      "/help - List of available commands\n",
      "/about - About me\n"
     ]
    }
   ],
   "source": [
    "from string import Template\n",
    "\n",
    "# TO DO: substitute text with variable\n",
    "with open('template_text/welcome.txt', mode='r', encoding='utf-8') as f:\n",
    "    content = f.read()\n",
    "    temp = Template(content)\n",
    "    welcome = temp.substitute(FULL_NAME = \"Algoritma\")\n",
    "\n",
    "print(welcome)"
   ]
  },
  {
   "cell_type": "markdown",
   "metadata": {
    "cell_id": "00031-65de9618-0991-43ee-bff5-d027aca19ba0",
    "deepnote_cell_type": "markdown",
    "tags": []
   },
   "source": [
    "**EXPECTED OUTPUT:**\n",
    "\n",
    "```\n",
    "Hello *Algoritma*, I can help you to provide a report on Facebook daily ads for different marketing campaigns.\n",
    "\n",
    "You can control me by sending these commands:\n",
    "\n",
    "*Main Functionality*\n",
    "/summary - Generate text report for selected campaign ID\n",
    "/plot - Visualize report per age group for selected campaign ID\n",
    "\n",
    "*Information*\n",
    "/help - List of available commands\n",
    "/about - About me\n",
    "```"
   ]
  },
  {
   "cell_type": "markdown",
   "metadata": {},
   "source": [
    "**TO DO:**\n",
    "\n",
    "Try to substitute the following key from `template_text/about.txt`:\n",
    "- `${STUDENT_NAME}`: Your full name\n",
    "- `${BATCH_ACADEMY}`: Your batch in Algoritma Academy, for example: Phoenix Day\n",
    "- `${GITHUB_REPO_LINK}`: Your link to the GitHub Repository\n",
    "\n",
    "For this section, you can substitute each key with a static text, such as `STUDENT_NAME = \"Your Name\"`."
   ]
  },
  {
   "cell_type": "code",
   "execution_count": 10,
   "metadata": {},
   "outputs": [
    {
     "name": "stdout",
     "output_type": "stream",
     "text": [
      "I was developed by M Nidhom Hilmi - APOLLO NIGHT as [Algoritma Academy](https://algorit.ma/) Data Analytics Specialization capstone project.\n",
      " \n",
      "The data is static and downloaded from [Kaggle](https://www.kaggle.com/madislemsalu/facebook-ad-campaign) provided by [Madis_Lemsalu](https://www.kaggle.com/madislemsalu).\n",
      "\n",
      "Please find the complete script on [GitHub](https://github.com/dashboard)\n"
     ]
    }
   ],
   "source": [
    "from string import Template\n",
    "\n",
    "# TO DO: substitute text with static values\n",
    "with open('template_text/about.txt', mode='r', encoding='utf-8') as f:\n",
    "    content = f.read()\n",
    "    temp = Template(content)\n",
    "    about = temp.substitute(\n",
    "        STUDENT_NAME = \"M Nidhom Hilmi\",\n",
    "        BATCH_ACADEMY = \"APOLLO NIGHT\",\n",
    "        GITHUB_REPO_LINK = \"https://github.com/dashboard\"\n",
    "    )\n",
    "\n",
    "print(about)"
   ]
  },
  {
   "cell_type": "markdown",
   "metadata": {
    "cell_id": "00032-41b45a7d-254e-4400-8395-bd39f0ce5e9a",
    "deepnote_cell_type": "markdown",
    "tags": []
   },
   "source": [
    "---\n",
    "\n",
    "📍 **CHECKPOINT 1**\n",
    "\n",
    "At this point, you have already understood how to:\n",
    "\n",
    "- Create a simple bot, sending a static text message\n",
    "- Access certain attributes of a `message` object\n",
    "- Utilize `Template` object to prepare template text\n",
    "\n",
    "Now, complete the following function inside `bot_local.py`:\n",
    "\n",
    "- `send_welcome` will send a greeting to the sender with their full name and providing a list of available commands. This function will be triggered with **/start** or **/help** command.\n",
    "\n",
    "![](assets/readme/start.png)\n",
    "\n",
    "- `send_about` will send information about you as the developer. Put your name, batch name, and GitHub repository link using string. This function will be triggered with the **/about** command.\n",
    "\n",
    "![](assets/readme/about.png)\n",
    "\n",
    "Run your Python script and test how your Telegram bot works.\n",
    "\n",
    "---"
   ]
  },
  {
   "cell_type": "markdown",
   "metadata": {
    "cell_id": "00033-6e5e7245-532a-4a3a-bbb0-2f960e6e1e81",
    "deepnote_cell_type": "markdown",
    "tags": []
   },
   "source": [
    "## Campaign Performance Reporting "
   ]
  },
  {
   "cell_type": "markdown",
   "metadata": {
    "cell_id": "00034-a143113b-a11a-4514-830c-55d75f0cd0b1",
    "deepnote_cell_type": "markdown",
    "tags": []
   },
   "source": [
    "The main functionality of this bot is to provide a campaign performance report from a marketing dataset. The report will be triggered by two commands:\n",
    "\n",
    "- **/summary**: provides quick text report of performance summary for selected campaign ID.\n",
    "- **/plot**: provides an image plot representation of selected campaign ID's performance and its description via voice note.\n",
    "\n",
    "We'll breakdown the process of each commands in the next part of this sub-section."
   ]
  },
  {
   "cell_type": "markdown",
   "metadata": {
    "cell_id": "00035-33678759-6943-4de0-8538-781fdb01f4c7",
    "deepnote_cell_type": "markdown",
    "tags": []
   },
   "source": [
    "### Data Preparation"
   ]
  },
  {
   "cell_type": "markdown",
   "metadata": {
    "cell_id": "00036-c13c6920-c940-4c24-a897-46584af31e7d",
    "deepnote_cell_type": "markdown",
    "tags": []
   },
   "source": [
    "**TO DO:**\n",
    "\n",
    "Let's start by reading our CSV data in. It's located in folder `data_input` and named `facebook_ads_v2.csv`. Don't forget to make sure that the value in each column has stored in the correct data type!"
   ]
  },
  {
   "cell_type": "code",
   "execution_count": 11,
   "metadata": {
    "cell_id": "00037-bcbed841-f4a0-48af-9c88-b9f68d20fca8",
    "deepnote_cell_type": "code",
    "deepnote_to_be_reexecuted": false,
    "execution_millis": 72,
    "execution_start": 1629360585927,
    "output_cleared": true,
    "source_hash": "3fd4b32",
    "tags": []
   },
   "outputs": [
    {
     "data": {
      "text/html": [
       "<div>\n",
       "<style scoped>\n",
       "    .dataframe tbody tr th:only-of-type {\n",
       "        vertical-align: middle;\n",
       "    }\n",
       "\n",
       "    .dataframe tbody tr th {\n",
       "        vertical-align: top;\n",
       "    }\n",
       "\n",
       "    .dataframe thead th {\n",
       "        text-align: right;\n",
       "    }\n",
       "</style>\n",
       "<table border=\"1\" class=\"dataframe\">\n",
       "  <thead>\n",
       "    <tr style=\"text-align: right;\">\n",
       "      <th></th>\n",
       "      <th>ad_id</th>\n",
       "      <th>reporting_date</th>\n",
       "      <th>campaign_id</th>\n",
       "      <th>age</th>\n",
       "      <th>gender</th>\n",
       "      <th>interest1</th>\n",
       "      <th>interest2</th>\n",
       "      <th>interest3</th>\n",
       "      <th>impressions</th>\n",
       "      <th>clicks</th>\n",
       "      <th>spent</th>\n",
       "      <th>total_conversion</th>\n",
       "      <th>approved_conversion</th>\n",
       "    </tr>\n",
       "  </thead>\n",
       "  <tbody>\n",
       "    <tr>\n",
       "      <th>0</th>\n",
       "      <td>708746</td>\n",
       "      <td>2017-08-17</td>\n",
       "      <td>916</td>\n",
       "      <td>30-34</td>\n",
       "      <td>M</td>\n",
       "      <td>15</td>\n",
       "      <td>17</td>\n",
       "      <td>17</td>\n",
       "      <td>7350.0</td>\n",
       "      <td>1</td>\n",
       "      <td>1.43</td>\n",
       "      <td>2.0</td>\n",
       "      <td>1.0</td>\n",
       "    </tr>\n",
       "    <tr>\n",
       "      <th>1</th>\n",
       "      <td>708749</td>\n",
       "      <td>2017-08-17</td>\n",
       "      <td>916</td>\n",
       "      <td>30-34</td>\n",
       "      <td>M</td>\n",
       "      <td>16</td>\n",
       "      <td>19</td>\n",
       "      <td>21</td>\n",
       "      <td>17861.0</td>\n",
       "      <td>2</td>\n",
       "      <td>1.82</td>\n",
       "      <td>2.0</td>\n",
       "      <td>0.0</td>\n",
       "    </tr>\n",
       "    <tr>\n",
       "      <th>2</th>\n",
       "      <td>708815</td>\n",
       "      <td>2017-08-30</td>\n",
       "      <td>916</td>\n",
       "      <td>30-34</td>\n",
       "      <td>M</td>\n",
       "      <td>28</td>\n",
       "      <td>32</td>\n",
       "      <td>32</td>\n",
       "      <td>4259.0</td>\n",
       "      <td>1</td>\n",
       "      <td>1.25</td>\n",
       "      <td>1.0</td>\n",
       "      <td>0.0</td>\n",
       "    </tr>\n",
       "    <tr>\n",
       "      <th>3</th>\n",
       "      <td>708818</td>\n",
       "      <td>2017-08-17</td>\n",
       "      <td>916</td>\n",
       "      <td>30-34</td>\n",
       "      <td>M</td>\n",
       "      <td>28</td>\n",
       "      <td>33</td>\n",
       "      <td>32</td>\n",
       "      <td>4133.0</td>\n",
       "      <td>1</td>\n",
       "      <td>1.29</td>\n",
       "      <td>1.0</td>\n",
       "      <td>1.0</td>\n",
       "    </tr>\n",
       "    <tr>\n",
       "      <th>4</th>\n",
       "      <td>708889</td>\n",
       "      <td>2017-08-17</td>\n",
       "      <td>916</td>\n",
       "      <td>30-34</td>\n",
       "      <td>M</td>\n",
       "      <td>15</td>\n",
       "      <td>16</td>\n",
       "      <td>17</td>\n",
       "      <td>15615.0</td>\n",
       "      <td>3</td>\n",
       "      <td>4.77</td>\n",
       "      <td>1.0</td>\n",
       "      <td>0.0</td>\n",
       "    </tr>\n",
       "  </tbody>\n",
       "</table>\n",
       "</div>"
      ],
      "text/plain": [
       "    ad_id reporting_date  campaign_id    age gender  interest1  interest2  \\\n",
       "0  708746     2017-08-17          916  30-34      M         15         17   \n",
       "1  708749     2017-08-17          916  30-34      M         16         19   \n",
       "2  708815     2017-08-30          916  30-34      M         28         32   \n",
       "3  708818     2017-08-17          916  30-34      M         28         33   \n",
       "4  708889     2017-08-17          916  30-34      M         15         16   \n",
       "\n",
       "   interest3  impressions  clicks  spent  total_conversion  \\\n",
       "0         17       7350.0       1   1.43               2.0   \n",
       "1         21      17861.0       2   1.82               2.0   \n",
       "2         32       4259.0       1   1.25               1.0   \n",
       "3         32       4133.0       1   1.29               1.0   \n",
       "4         17      15615.0       3   4.77               1.0   \n",
       "\n",
       "   approved_conversion  \n",
       "0                  1.0  \n",
       "1                  0.0  \n",
       "2                  0.0  \n",
       "3                  1.0  \n",
       "4                  0.0  "
      ]
     },
     "execution_count": 11,
     "metadata": {},
     "output_type": "execute_result"
    }
   ],
   "source": [
    "import pandas as pd\n",
    "\n",
    "# TO DO: read data and convert data type\n",
    "df = pd.read_csv(\"data_input/facebook_ads_v2.csv\", parse_dates=[\"reporting_date\"], dayfirst=True)\n",
    "df.head()"
   ]
  },
  {
   "cell_type": "markdown",
   "metadata": {
    "cell_id": "00038-0b4c6286-0c1a-4fc5-9de6-11cadd1c6f00",
    "deepnote_cell_type": "markdown",
    "tags": []
   },
   "source": [
    "The data is downloaded from a  [Kaggle dataset repository](https://www.kaggle.com/madislemsalu/facebook-ad-campaign) provided by [Madis_Lemsalu](https://www.kaggle.com/madislemsalu). It contains daily ads report run on Facebook from different marketing campaign from 17th to 30th of August 2017. The variable includes:\n",
    "\n",
    "- `ad_id`: Unique identifier of the daily ads\n",
    "- `reporting_date`: The date of the generated report. \n",
    "- `campaign_id`: unique identifier of a campaign, one campaign could have several creative ads\n",
    "- `age`: The age group on which the ad is promoted\n",
    "- `gender`: The gender on which the ad is promoted\n",
    "- `interest1`, `interest2`, and `interest3`: The interest group id on which the ad is promoted\n",
    "- `impressions`: Number of people viewing the ad\n",
    "- `clicks`: Number of people clicking the ad\n",
    "- `spent`: Amount of marketing cost spent\n",
    "- `total_conversion`: Number of conversions (commonly a buying action) happened\n",
    "- `approved_conversion`: Number of approved conversions after cross checked with the actual business. In some cases, a conversion tracked by the ad doesn't really record with a complete buying action from the customers."
   ]
  },
  {
   "cell_type": "markdown",
   "metadata": {
    "cell_id": "00039-6cf05b28-7374-4d88-8c82-8fd84909fca0",
    "deepnote_cell_type": "markdown",
    "tags": []
   },
   "source": [
    "**TO DO:**\n",
    "\n",
    "Since we expect both **/summary** & **/plot** to ask for `campaign_id` as reply options, in the cell below change the type of `campaign_id` to **string (str)** and store its unique values into `unique_campaign` variable:"
   ]
  },
  {
   "cell_type": "code",
   "execution_count": 21,
   "metadata": {
    "cell_id": "00040-5b29d5b5-e6ed-45a5-b663-fc3c90f6f12b",
    "deepnote_cell_type": "code",
    "deepnote_to_be_reexecuted": false,
    "execution_millis": 24,
    "execution_start": 1629360585975,
    "output_cleared": true,
    "source_hash": "f3db8c0c",
    "tags": []
   },
   "outputs": [
    {
     "data": {
      "text/plain": [
       "array(['916', '936', '1178', '1210'], dtype=object)"
      ]
     },
     "execution_count": 21,
     "metadata": {},
     "output_type": "execute_result"
    }
   ],
   "source": [
    "# TO DO: get unique values of campaign_id\n",
    "df['campaign_id'] = df['campaign_id'].astype(str)\n",
    "unique_campaign = df['campaign_id'].unique()\n",
    "\n",
    "unique_campaign"
   ]
  },
  {
   "cell_type": "markdown",
   "metadata": {
    "cell_id": "00041-f2090195-d6ea-4d23-8c64-2d2469f320ce",
    "deepnote_cell_type": "markdown",
    "tags": []
   },
   "source": [
    "**EXPECTED OUTPUT:**\n",
    "\n",
    "```\n",
    "array(['916', '936', '1178', '1210'], dtype=object)\n",
    "````\n",
    "\n",
    "Be careful! Notice the following two points:\n",
    "\n",
    "1. `dtype` of the array must be an object.\n",
    "2. Each value in `unique_campaign` must be a string (denoted by single quotation mark) not an integer.\n",
    "    - CORRECT OUTPUT: `['916', '936', '1178', '1210']`\n",
    "    - WRONG OUTPUT: `[916, 936, 1178, 1210]`"
   ]
  },
  {
   "cell_type": "markdown",
   "metadata": {},
   "source": [
    "**TO DO:** Change the data type of `ad_id`, `age`, and `gender` accordingly."
   ]
  },
  {
   "cell_type": "code",
   "execution_count": 25,
   "metadata": {},
   "outputs": [
    {
     "data": {
      "text/plain": [
       "ad_id                          object\n",
       "reporting_date         datetime64[ns]\n",
       "campaign_id                    object\n",
       "age                          category\n",
       "gender                       category\n",
       "interest1                       int64\n",
       "interest2                       int64\n",
       "interest3                       int64\n",
       "impressions                   float64\n",
       "clicks                          int64\n",
       "spent                         float64\n",
       "total_conversion              float64\n",
       "approved_conversion           float64\n",
       "dtype: object"
      ]
     },
     "execution_count": 25,
     "metadata": {},
     "output_type": "execute_result"
    }
   ],
   "source": [
    "# TO DO: change the data type of ad_id, age, and gender\n",
    "df['ad_id'] = df['ad_id'].astype(str)\n",
    "df['age'] = df['age'].astype(\"category\")\n",
    "df['gender'] = df['gender'].astype(\"category\")\n",
    "\n",
    "# check data dtypes\n",
    "df.dtypes"
   ]
  },
  {
   "cell_type": "markdown",
   "metadata": {},
   "source": [
    "**EXPECTED OUTPUT:**\n",
    "\n",
    "```\n",
    "ad_id                          object\n",
    "reporting_date         datetime64[ns]\n",
    "campaign_id                    object\n",
    "age                          category\n",
    "gender                       category\n",
    "interest1                       int64\n",
    "interest2                       int64\n",
    "interest3                       int64\n",
    "impressions                   float64\n",
    "clicks                          int64\n",
    "spent                         float64\n",
    "total_conversion              float64\n",
    "approved_conversion           float64\n",
    "dtype: object\n",
    "````\n",
    "\n",
    "Make sure you have the same data types for each column before moving on to next section."
   ]
  },
  {
   "cell_type": "markdown",
   "metadata": {
    "cell_id": "00042-4321e0c3-6b9d-4fee-a503-59df266f26dc",
    "deepnote_cell_type": "markdown",
    "tags": []
   },
   "source": [
    "### The `/summary` command"
   ]
  },
  {
   "cell_type": "markdown",
   "metadata": {
    "cell_id": "00043-32b205d3-c116-43c2-a8cd-f7021787f082",
    "deepnote_cell_type": "markdown",
    "tags": []
   },
   "source": [
    "#### Preparing the Summary Output"
   ]
  },
  {
   "cell_type": "markdown",
   "metadata": {
    "cell_id": "00044-62d97a80-fd2c-4632-8521-ccbf5003ca51",
    "deepnote_cell_type": "markdown",
    "tags": []
   },
   "source": [
    "This command is created to provide a quick text report of performance summary for selected campaign ID. The message template is stored on `template_text/summary.txt`.\n",
    "\n",
    "If you open up the text file, you'll find several `${variable}`s:\n",
    "\n",
    "- `CAMPAIGN_ID`: Selected Campaign ID\n",
    "- `START_DATE` & `END_DATE`: The start and end date (`reporting_date`) of generated report \n",
    "- `TOTAL_SPENT`: Total marketing cost spent (`spent`) on the campaign  \n",
    "- `TOTAL_CONVERSION`: Number of conversions (`total_conversion`) on the campaign\n",
    "- `CPC`: Cost-per-click (obtained by dividing the total spent with total conversion for each campaign)"
   ]
  },
  {
   "cell_type": "markdown",
   "metadata": {
    "cell_id": "00045-9a9b8b2a-0d85-49b4-b03d-b118a6de51aa",
    "deepnote_cell_type": "markdown",
    "tags": []
   },
   "source": [
    "**TO DO:**\n",
    "\n",
    "Find the range date (`start_date` and `end_date`) based on specified `campaign_id`:\n",
    "\n",
    "1. Filter the data based on `selected_campaign_id` and then assign as `df_campaign`. Since the value of `campaign_id` will be dynamic according to user input later, for now, let's just use campaign ID `1210` as an example.\n",
    "2. Get the minimum and maximum of `reporting_date` and return the date as string following the format of \"17 Aug 2017\". Assign as `start_date` and `end_date` respectively. Reference: [strftime cheatsheet](https://strftime.org/)"
   ]
  },
  {
   "cell_type": "code",
   "execution_count": 31,
   "metadata": {
    "cell_id": "00046-21c8765c-9c35-470e-b4a6-c30127c859e7",
    "deepnote_cell_type": "code",
    "deepnote_to_be_reexecuted": false,
    "execution_millis": 32,
    "execution_start": 1629360585982,
    "output_cleared": true,
    "source_hash": "332d60d4",
    "tags": []
   },
   "outputs": [
    {
     "name": "stdout",
     "output_type": "stream",
     "text": [
      "Start Date: 17 Aug 2017\n",
      "End Date: 30 Aug 2017\n"
     ]
    }
   ],
   "source": [
    "# TO DO: find the range date\n",
    "selected_campaign_id = 1210\n",
    "df_campaign = df[df['campaign_id'] == selected_campaign_id]\n",
    "        \n",
    "start_date = df_campaign['reporting_date'].min().strftime(format='%d %b %Y')\n",
    "end_date = df_campaign['reporting_date'].max().strftime(format='%d %b %Y')\n",
    "\n",
    "# DO NOT EDIT (FOR CHECKING PURPOSE)\n",
    "print(f\"Start Date: {start_date}\")\n",
    "print(f\"End Date: {end_date}\")"
   ]
  },
  {
   "cell_type": "markdown",
   "metadata": {
    "cell_id": "00047-30dcd982-b466-48ad-b139-934af0f6d9bc",
    "deepnote_cell_type": "markdown",
    "tags": []
   },
   "source": [
    "**EXPECTED OUTPUT:**\n",
    "\n",
    "```\n",
    "Start Date: 17 Aug 2017\n",
    "End Date: 30 Aug 2017\n",
    "```"
   ]
  },
  {
   "cell_type": "markdown",
   "metadata": {
    "cell_id": "00048-39c4c7f0-48b6-4352-8d55-3343f19ce572",
    "deepnote_cell_type": "markdown",
    "tags": []
   },
   "source": [
    "**TO DO:**\n",
    "\n",
    "From the filtered data (`df_campaign`), calculate the following metrics:\n",
    "\n",
    "1. `total_spent` is the total marketing cost spent (column `spent`) on the campaign, convert it to integer.\n",
    "2. `total_conversion` is the total number of conversions (column `total_conversion`) on the campaign, convert it to integer.\n",
    "3. `cpc` stands for cost-per-click, obtained by dividing the `total_spent` and `total_conversion`"
   ]
  },
  {
   "cell_type": "code",
   "execution_count": 38,
   "metadata": {
    "cell_id": "00049-24090ce3-bc75-4527-b856-10e068e9dc51",
    "deepnote_cell_type": "code",
    "deepnote_to_be_reexecuted": false,
    "execution_millis": 604409,
    "execution_start": 1629360586003,
    "output_cleared": true,
    "source_hash": "f421298f",
    "tags": []
   },
   "outputs": [
    {
     "name": "stdout",
     "output_type": "stream",
     "text": [
      "Total Spent: 39084\n",
      "Total Conversion: 1615\n",
      "CPC: 24.20061919504644\n"
     ]
    }
   ],
   "source": [
    "# TO DO: perform calculation\n",
    "total_spent = df_campaign['spent'].sum().astype(int)\n",
    "total_conversion = df_campaign['total_conversion'].sum().astype(int)\n",
    "cpc = total_spent / total_conversion\n",
    "\n",
    "# DO NOT EDIT (FOR CHECKING PURPOSE)\n",
    "print(f\"Total Spent: {total_spent}\")\n",
    "print(f\"Total Conversion: {total_conversion}\")\n",
    "print(f\"CPC: {cpc}\")"
   ]
  },
  {
   "attachments": {},
   "cell_type": "markdown",
   "metadata": {
    "cell_id": "00050-e7ee4dc5-b970-4050-8dbd-05a3726bd023",
    "deepnote_cell_type": "markdown",
    "tags": []
   },
   "source": [
    "**EXPECTED OUTPUT:**\n",
    "\n",
    "```\n",
    "Total Spent: 39084\n",
    "Total Conversion: 1615\n",
    "CPC: 24.20061919504644\n",
    "```"
   ]
  },
  {
   "attachments": {},
   "cell_type": "markdown",
   "metadata": {},
   "source": [
    "In Python, there is **formatted string literals** (f-strings for short). It allows you include the value of Python expressions inside a string by prefixing the string with `f` and writing expressions as `{expression}`.\n",
    "\n",
    "Take a look on the cell below. The syntax `f\"... {...}\"` indicates that we are using f-strings. Inside the curly bracket, we specify the expression as `{variable:formatting}`. The `variable` to be formatted is `example_cost`. The format `,.5f` means the following:\n",
    "- `,` for thousand separator\n",
    "- `.5f` for float rounding to five decimal places.\n",
    "\n",
    "Reference: [Python 3.10 Documentation on Fancier Output Formatting](https://docs.python.org/3.10/tutorial/inputoutput.html#fancier-output-formatting)"
   ]
  },
  {
   "cell_type": "code",
   "execution_count": 39,
   "metadata": {},
   "outputs": [
    {
     "data": {
      "text/plain": [
       "'Value of cost is 1,234.56789 IDR.'"
      ]
     },
     "execution_count": 39,
     "metadata": {},
     "output_type": "execute_result"
    }
   ],
   "source": [
    "# play around with f-strings\n",
    "example_cost = 1234.56789123456789\n",
    "f\"Value of cost is {example_cost:,.5f} IDR.\""
   ]
  },
  {
   "attachments": {},
   "cell_type": "markdown",
   "metadata": {
    "cell_id": "00051-4ad694f9-6750-4cc7-b703-18beed7a411b",
    "deepnote_cell_type": "markdown",
    "tags": []
   },
   "source": [
    "**TO DO:**\n",
    "\n",
    "Complete the code below to read in `summary.txt` message template. It should be able to print out the template's variables filled in with the extracted information from the previous steps. Notice that you have to format `total_spent`, `total_conversion`, and `cpc` using f-strings **thousand separator** and **dollar sign**. For `cpc`, set the rounding to 1 decimal place."
   ]
  },
  {
   "cell_type": "code",
   "execution_count": 53,
   "metadata": {
    "cell_id": "00052-76e48668-0bf9-429c-8927-dfde06b0b4cd",
    "deepnote_cell_type": "code",
    "deepnote_to_be_reexecuted": false,
    "execution_millis": 2,
    "execution_start": 1629360586050,
    "output_cleared": true,
    "source_hash": "b1a01537",
    "tags": []
   },
   "outputs": [
    {
     "name": "stdout",
     "output_type": "stream",
     "text": [
      "Reporting Facebook ads campaign performance for Campaign ID 1210 from 17 Aug 2017 to 30 Aug 2017:\n",
      "\n",
      "Total spent: $39,084 \n",
      "Total conversion: 1,615\n",
      "Cost per conversion gained: $24.2\n"
     ]
    }
   ],
   "source": [
    "# TO DO: substitute text with variables\n",
    "with open('template_text/summary.txt', mode='r', encoding='utf-8') as f:\n",
    "    content = f.read()\n",
    "    temp = Template(content)\n",
    "    summary = temp.substitute(\n",
    "        CAMPAIGN_ID = selected_campaign_id,\n",
    "        START_DATE = start_date,\n",
    "        END_DATE = end_date,\n",
    "        TOTAL_SPENT = f\"${total_spent:,.0f}\",\n",
    "        TOTAL_CONVERSION = f\"{total_conversion:,.0f}\",\n",
    "        CPC = f\"${cpc:,.1f}\"\n",
    "    )\n",
    "\n",
    "print(summary)"
   ]
  },
  {
   "cell_type": "markdown",
   "metadata": {
    "cell_id": "00053-f2d19e28-d04a-4d15-a955-0bfb7ca34107",
    "deepnote_cell_type": "markdown",
    "tags": []
   },
   "source": [
    "**EXPECTED OUTPUT:**\n",
    "\n",
    "```\n",
    "Reporting Facebook ads campaign performance for Campaign ID 1210 from 17 Aug 2017 to 30 Aug 2017:\n",
    "\n",
    "Total spent: $39,084 \n",
    "Total conversion: 1,615\n",
    "Cost per conversion gained: $24.2\n",
    "```"
   ]
  },
  {
   "cell_type": "markdown",
   "metadata": {
    "cell_id": "00054-c5877bd0-f2ff-4b40-88dd-d62acbc070f5",
    "deepnote_cell_type": "markdown",
    "tags": []
   },
   "source": [
    "#### Configure the Command"
   ]
  },
  {
   "cell_type": "markdown",
   "metadata": {
    "cell_id": "00055-8d207969-c481-4101-99d1-96d6383ae64f",
    "deepnote_cell_type": "markdown",
    "tags": []
   },
   "source": [
    "Let's now present our analysis result inside the Telegram Bot command. The expected flow is:\n",
    "\n",
    "1. User trigger the command with `/summary`\n",
    "2. The Bot will return a `ReplyKeyboardMarkup` which allows user to select which `campaign_id` they're interested in\n",
    "3. User select a `campaign_id`\n",
    "4. Bot return the campaign performance summary\n",
    "\n",
    "To illustrate the flow, take a look at the figure below:\n",
    "\n",
    "![](assets/summary.png)"
   ]
  },
  {
   "cell_type": "markdown",
   "metadata": {
    "cell_id": "00056-ec60482c-5a11-472a-9bfc-a0ef0e29014d",
    "deepnote_cell_type": "markdown",
    "tags": []
   },
   "source": [
    "**TO DO:**\n",
    "\n",
    "Execute the following cell code (make sure to uncomment the `bot.polling()`) and send **/summary** command to the bot in order to understand what is `ReplyKeyboardMarkup` object and method `register_next_step_handler`."
   ]
  },
  {
   "cell_type": "code",
   "execution_count": null,
   "metadata": {
    "cell_id": "00057-a8ae3e7f-a436-4d2f-aed7-bc6c2d87cf0b",
    "deepnote_cell_type": "code",
    "deepnote_to_be_reexecuted": false,
    "execution_millis": 7,
    "execution_start": 1629360586051,
    "output_cleared": true,
    "source_hash": "81124017",
    "tags": []
   },
   "outputs": [],
   "source": [
    "import telebot\n",
    "from dotenv import load_dotenv\n",
    "import os\n",
    "\n",
    "load_dotenv()\n",
    "TOKEN = os.environ['TOKEN']\n",
    "bot = telebot.TeleBot(TOKEN)\n",
    "\n",
    "# FOCUS ON THIS PART\n",
    "@bot.message_handler(commands=['summary'])\n",
    "def ask_id_summary(message):\n",
    "    chat_id = message.chat.id\n",
    "\n",
    "    # 1. PREPARE ReplyKeyboardMarkup\n",
    "    markup = telebot.types.ReplyKeyboardMarkup(one_time_keyboard=True)\n",
    "\n",
    "    # 2. ADD BUTTON TO THE ReplyKeyboardMarkup\n",
    "    markup.add('First')\n",
    "    markup.add('Second')\n",
    "    markup.add('Third')\n",
    "\n",
    "    # 3. SEND MESSAGE\n",
    "    sent = bot.send_message(chat_id, 'This is ask_id_summary', reply_markup=markup)\n",
    "\n",
    "    # 4. TRIGGER send_summary FUNCTION\n",
    "    bot.register_next_step_handler(sent, send_summary)\n",
    "\n",
    "# 5. send_summary WILL BE EXECUTED\n",
    "def send_summary(message):\n",
    "    bot.reply_to(message, \"This is send_summary function\")\n",
    "    print(type(message.text))\n",
    "\n",
    "# bot.polling()"
   ]
  },
  {
   "cell_type": "markdown",
   "metadata": {
    "cell_id": "00058-9a5cb3ff-6680-4c62-8edf-3c0a40a30382",
    "deepnote_cell_type": "markdown",
    "tags": []
   },
   "source": [
    "---\n",
    "\n",
    "📍 **CHECKPOINT 2**\n",
    "\n",
    "At this point, you have extract relevant information and present a text report of performance summary, but only for campaign ID `1210`.\n",
    "\n",
    "Now, complete the following function inside `bot_local.py`:\n",
    "\n",
    "- `ask_id_summary` will prompt a keyboard and ask the user to choose campaign ID to be summarized. This function will be triggered with **/summary** command.\n",
    "- `send_summary` will send a quick text report of performance summary for selected campaign ID. This function will be triggered after the user choose a campaign ID via `ask_id_summary`.\n",
    "\n",
    "Run your Python script and test how your Telegram bot works.\n",
    "\n",
    "---"
   ]
  },
  {
   "cell_type": "markdown",
   "metadata": {
    "cell_id": "00059-d60d3036-5f9e-47eb-860d-b73bc084690d",
    "deepnote_cell_type": "markdown",
    "tags": []
   },
   "source": [
    "### The `/plot` command "
   ]
  },
  {
   "cell_type": "markdown",
   "metadata": {
    "cell_id": "00060-da82fd22-4338-49f5-a03b-3e86ab58827a",
    "deepnote_cell_type": "markdown",
    "tags": []
   },
   "source": [
    "Not only text messages, we can also send **image and audio output** via the Telegram bot. In this section, we want our bot to generate a plot to visualize Total Spent, Total Approved Conversion, and Average CPC (Cost per Conversion) across `age` group for selected `campaign_id`. From the visualization, there will be a voice message that summarize the insight of the plot."
   ]
  },
  {
   "cell_type": "markdown",
   "metadata": {
    "cell_id": "00061-c55e16f3-54b1-4c43-9756-902af67ceb6c",
    "deepnote_cell_type": "markdown",
    "tags": []
   },
   "source": [
    "#### Visualization"
   ]
  },
  {
   "cell_type": "markdown",
   "metadata": {
    "cell_id": "00062-d8b8621f-ba14-4897-ad83-32cd4d0354ba",
    "deepnote_cell_type": "markdown",
    "tags": []
   },
   "source": [
    "**TO DO:**\n",
    "\n",
    "Let's prepare the data before visualization:\n",
    "\n",
    "1. Filter the data based on `selected_campaign_id` and then assign as `df_campaign`. Since the value of `campaign_id` will be dynamic according to user input later, for now, let's just use campaign ID `1210` as an example.\n",
    "2. By using filtered data `df_campaign`, create an aggregation table to calculate the total of `spent` and `approved_conversion` for each `age` group. Assign as `df_plot`.\n",
    "3. From the aggregation table, create a new column `cpc` by dividing total `spent` by `approved_conversion`."
   ]
  },
  {
   "cell_type": "code",
   "execution_count": 57,
   "metadata": {
    "cell_id": "00063-d64e69e3-eb58-42aa-aad6-6e33880c056b",
    "deepnote_cell_type": "code",
    "deepnote_to_be_reexecuted": false,
    "execution_millis": 32,
    "execution_start": 1629360586051,
    "is_code_hidden": false,
    "output_cleared": true,
    "source_hash": "df89475c",
    "tags": []
   },
   "outputs": [
    {
     "data": {
      "text/html": [
       "<div>\n",
       "<style scoped>\n",
       "    .dataframe tbody tr th:only-of-type {\n",
       "        vertical-align: middle;\n",
       "    }\n",
       "\n",
       "    .dataframe tbody tr th {\n",
       "        vertical-align: top;\n",
       "    }\n",
       "\n",
       "    .dataframe thead th {\n",
       "        text-align: right;\n",
       "    }\n",
       "</style>\n",
       "<table border=\"1\" class=\"dataframe\">\n",
       "  <thead>\n",
       "    <tr style=\"text-align: right;\">\n",
       "      <th></th>\n",
       "      <th>spent</th>\n",
       "      <th>approved_conversion</th>\n",
       "      <th>cpc</th>\n",
       "    </tr>\n",
       "    <tr>\n",
       "      <th>age</th>\n",
       "      <th></th>\n",
       "      <th></th>\n",
       "      <th></th>\n",
       "    </tr>\n",
       "  </thead>\n",
       "  <tbody>\n",
       "    <tr>\n",
       "      <th>30-34</th>\n",
       "      <td>7559.179992</td>\n",
       "      <td>166.0</td>\n",
       "      <td>45.537229</td>\n",
       "    </tr>\n",
       "    <tr>\n",
       "      <th>35-39</th>\n",
       "      <td>5966.909990</td>\n",
       "      <td>78.0</td>\n",
       "      <td>76.498846</td>\n",
       "    </tr>\n",
       "    <tr>\n",
       "      <th>40-44</th>\n",
       "      <td>7252.099982</td>\n",
       "      <td>88.0</td>\n",
       "      <td>82.410227</td>\n",
       "    </tr>\n",
       "    <tr>\n",
       "      <th>45-49</th>\n",
       "      <td>18306.799997</td>\n",
       "      <td>162.0</td>\n",
       "      <td>113.004938</td>\n",
       "    </tr>\n",
       "  </tbody>\n",
       "</table>\n",
       "</div>"
      ],
      "text/plain": [
       "              spent  approved_conversion         cpc\n",
       "age                                                 \n",
       "30-34   7559.179992                166.0   45.537229\n",
       "35-39   5966.909990                 78.0   76.498846\n",
       "40-44   7252.099982                 88.0   82.410227\n",
       "45-49  18306.799997                162.0  113.004938"
      ]
     },
     "execution_count": 57,
     "metadata": {},
     "output_type": "execute_result"
    }
   ],
   "source": [
    "# TO DO: prepare data for visualization\n",
    "selected_campaign_id = 1210\n",
    "df_campaign = df[df['campaign_id'] == selected_campaign_id]\n",
    "df_plot = df_campaign.groupby('age').agg({\n",
    "    'spent': 'sum',\n",
    "    'approved_conversion': 'sum'\n",
    "})\n",
    "df_plot['cpc'] = df_plot['spent'] / df_plot['approved_conversion']\n",
    "df_plot"
   ]
  },
  {
   "cell_type": "markdown",
   "metadata": {
    "cell_id": "00064-6cc2f674-4831-4280-be91-5c3cabbac526",
    "deepnote_cell_type": "markdown",
    "tags": []
   },
   "source": [
    "**EXPECTED OUTPUT:**\n",
    "\n",
    "|       |     spent    | approved_conversion |     cpc    |\n",
    "|:-----:|:------------:|:-------------------:|:----------:|\n",
    "|**age**|              |                     |            |\n",
    "| 30-34 |  7559.179992 |        166.0        |  45.537229 |\n",
    "| 35-39 |  5966.909990 |         78.0        |  76.498846 |\n",
    "| 40-44 |  7252.099982 |         88.0        |  82.410227 |\n",
    "| 45-49 | 18306.799997 |        162.0        | 113.004938 |"
   ]
  },
  {
   "attachments": {},
   "cell_type": "markdown",
   "metadata": {
    "cell_id": "00065-b5f09103-68d5-412e-8d1a-50a71142ef5c",
    "deepnote_cell_type": "markdown",
    "tags": []
   },
   "source": [
    "We are going to create bar plot of 3 values (total `spent`, `approved_conversion`, and `cpc`), so we need to use subplots for the visualization by using `plt.subplots()`. Then change the plot to frameless to make it look neater.\n",
    "\n",
    "**TO DO:**\n",
    "\n",
    "Complete the visual component:\n",
    "\n",
    "1. First subplot: bar plot of total `spent` per age group. Set the `color` parameter to #AE2024 (red) and the `ylabel` accordingly.\n",
    "2. Second subplot: bar plot of total `approved_conversion` per age group. Set the `color` parameter to #000000 (black) and the `ylabel` accordingly.\n",
    "3. Third subplot: bar plot of average `cpc` per age group. Set the `color` parameter to #AE2024 (red) and the `ylabel` accordingly.\n",
    "4. Set `xlabel` and `title` of the plot accordingly. Use the f-string formatting for `title` so that the title matches the selected `campaign_id`."
   ]
  },
  {
   "cell_type": "code",
   "execution_count": 60,
   "metadata": {
    "cell_id": "00066-f4a8dab2-66e6-4287-bc67-d33d40da9d3f",
    "deepnote_cell_type": "code",
    "deepnote_to_be_reexecuted": false,
    "execution_millis": 702,
    "execution_start": 1629360586076,
    "is_code_hidden": false,
    "output_cleared": true,
    "source_hash": "3a2ce39",
    "tags": []
   },
   "outputs": [
    {
     "data": {
      "image/png": "[encoded data removed]",
      "text/plain": [
       "<Figure size 1920x1440 with 3 Axes>"
      ]
     },
     "metadata": {},
     "output_type": "display_data"
    }
   ],
   "source": [
    "import matplotlib.pyplot as plt\n",
    "\n",
    "# prepare 3 subplots vertically\n",
    "fig, axes = plt.subplots(3, sharex=True, dpi=300)\n",
    "\n",
    "# create frameless plot\n",
    "for ax in axes:\n",
    "    ax.spines['top'].set_visible(False)\n",
    "    ax.spines['right'].set_visible(False)\n",
    "    ax.spines['left'].set_visible(False)\n",
    "    ax.spines['bottom'].set_visible(False)\n",
    "\n",
    "# first subplot: total spent per age group\n",
    "axes[0].bar(x=df_plot.index, height=df_plot['spent'], color='#AE2024')\n",
    "axes[0].set_ylabel('Total Spent', fontsize=8)\n",
    "\n",
    "# second subplot: total approved conversion per age group\n",
    "axes[1].bar(x=df_plot.index, height=df_plot['approved_conversion'], color='#000000')\n",
    "axes[1].set_ylabel('Total Approved Conversion', fontsize=8)\n",
    "\n",
    "# third subplot: average CPC per age group\n",
    "axes[2].bar(x=df_plot.index, height=df_plot['cpc'], color='#AE2024')\n",
    "axes[2].set_ylabel('Average CPC', fontsize=8)\n",
    "\n",
    "# set the label and title for plots\n",
    "plt.xlabel('Age Group')\n",
    "axes[0].set_title(\n",
    "    f'''Average CPC, Total Spent, and Total Approved Conversion\n",
    "    across Age Group for Campaign ID: {selected_campaign_id}''')\n",
    "\n",
    "plt.show()"
   ]
  },
  {
   "attachments": {},
   "cell_type": "markdown",
   "metadata": {
    "cell_id": "00067-e132458a-f1c5-40ac-9aee-b328071e08ae",
    "deepnote_cell_type": "markdown",
    "tags": []
   },
   "source": [
    "**EXPECTED OUTPUT:**\n",
    "\n",
    "![](assets/plot.png)"
   ]
  },
  {
   "cell_type": "markdown",
   "metadata": {
    "cell_id": "00068-00177e88-4223-4d74-a09d-f6199d574a4f",
    "deepnote_cell_type": "markdown",
    "tags": []
   },
   "source": [
    "The visualization above will be sent to the user as `.png` image. Therefore, we should save the plot by using `plt.savefig` method provided on the skeleton file as follow:\n",
    "\n",
    "```py\n",
    "# create output folder\n",
    "if not os.path.exists('output'):\n",
    "    os.makedirs('output')\n",
    "\n",
    "# save plot\n",
    "plt.savefig('output/plot.png', bbox_inches='tight')\n",
    "```"
   ]
  },
  {
   "cell_type": "markdown",
   "metadata": {
    "cell_id": "00069-7ae50577-6293-4771-964b-373cc31a293d",
    "deepnote_cell_type": "markdown",
    "tags": []
   },
   "source": [
    "---\n",
    "\n",
    "📍 **CHECKPOINT 3**\n",
    "\n",
    "At this point, you have created a plot but only for campaign ID `1210`.\n",
    "\n",
    "Now, complete the following function inside `bot_local.py`:\n",
    "\n",
    "- `ask_id_plot` will prompt a keyboard and ask the user to choose campaign ID to be summarized. This function will be triggered with **/plot** command.\n",
    "- `send_plot` will send a plot for selected campaign ID. This function will be triggered after the user choose a campaign ID via `ask_id_plot`.\n",
    "\n",
    "Run your Python script and test how your Telegram bot works.\n",
    "\n",
    "---"
   ]
  },
  {
   "cell_type": "markdown",
   "metadata": {
    "cell_id": "00070-3d7a0e61-d406-4434-bb3a-23db23f41a42",
    "deepnote_cell_type": "markdown",
    "tags": []
   },
   "source": [
    "#### (EXTRA CHALLENGE) Voice Message"
   ]
  },
  {
   "cell_type": "markdown",
   "metadata": {
    "cell_id": "00071-40fe7234-b9a6-4e7f-adc8-ab26514bc66d",
    "deepnote_cell_type": "markdown",
    "tags": []
   },
   "source": [
    "**This section is optional and doesn't account for any score to the rubrics**. Along with the plot, we can send a voice message to user about the age group with the highest and lowest number of average CPC, total spent, and total approved conversion."
   ]
  },
  {
   "cell_type": "code",
   "execution_count": 61,
   "metadata": {
    "cell_id": "00072-7136c520-f41e-4054-a488-cca9a68fc8f1",
    "deepnote_cell_type": "code",
    "deepnote_to_be_reexecuted": false,
    "execution_millis": 103,
    "execution_start": 1629360586776,
    "output_cleared": true,
    "source_hash": "46ed7f7a",
    "tags": []
   },
   "outputs": [
    {
     "data": {
      "text/html": [
       "<div>\n",
       "<style scoped>\n",
       "    .dataframe tbody tr th:only-of-type {\n",
       "        vertical-align: middle;\n",
       "    }\n",
       "\n",
       "    .dataframe tbody tr th {\n",
       "        vertical-align: top;\n",
       "    }\n",
       "\n",
       "    .dataframe thead th {\n",
       "        text-align: right;\n",
       "    }\n",
       "</style>\n",
       "<table border=\"1\" class=\"dataframe\">\n",
       "  <thead>\n",
       "    <tr style=\"text-align: right;\">\n",
       "      <th></th>\n",
       "      <th>spent</th>\n",
       "      <th>approved_conversion</th>\n",
       "      <th>cpc</th>\n",
       "    </tr>\n",
       "    <tr>\n",
       "      <th>age</th>\n",
       "      <th></th>\n",
       "      <th></th>\n",
       "      <th></th>\n",
       "    </tr>\n",
       "  </thead>\n",
       "  <tbody>\n",
       "    <tr>\n",
       "      <th>30-34</th>\n",
       "      <td>7559.179992</td>\n",
       "      <td>166.0</td>\n",
       "      <td>45.537229</td>\n",
       "    </tr>\n",
       "    <tr>\n",
       "      <th>35-39</th>\n",
       "      <td>5966.909990</td>\n",
       "      <td>78.0</td>\n",
       "      <td>76.498846</td>\n",
       "    </tr>\n",
       "    <tr>\n",
       "      <th>40-44</th>\n",
       "      <td>7252.099982</td>\n",
       "      <td>88.0</td>\n",
       "      <td>82.410227</td>\n",
       "    </tr>\n",
       "    <tr>\n",
       "      <th>45-49</th>\n",
       "      <td>18306.799997</td>\n",
       "      <td>162.0</td>\n",
       "      <td>113.004938</td>\n",
       "    </tr>\n",
       "  </tbody>\n",
       "</table>\n",
       "</div>"
      ],
      "text/plain": [
       "              spent  approved_conversion         cpc\n",
       "age                                                 \n",
       "30-34   7559.179992                166.0   45.537229\n",
       "35-39   5966.909990                 78.0   76.498846\n",
       "40-44   7252.099982                 88.0   82.410227\n",
       "45-49  18306.799997                162.0  113.004938"
      ]
     },
     "execution_count": 61,
     "metadata": {},
     "output_type": "execute_result"
    }
   ],
   "source": [
    "df_plot"
   ]
  },
  {
   "cell_type": "markdown",
   "metadata": {
    "cell_id": "00073-4827907e-8f73-448f-9240-73f1c08508f5",
    "deepnote_cell_type": "markdown",
    "tags": []
   },
   "source": [
    "**TO DO:**\n",
    "\n",
    "Using the code below, extract both minimum and maximum values of the index from the aggregation table `df_plot`. Example: for column `spent`, the age group with the lowest (minimum) values is 35-39. On the other hand, the highest (maximum) is 45-49."
   ]
  },
  {
   "cell_type": "code",
   "execution_count": 62,
   "metadata": {
    "cell_id": "00074-2cf59539-6aa5-4076-8498-00d8638db52a",
    "deepnote_cell_type": "code",
    "deepnote_to_be_reexecuted": false,
    "execution_millis": 10,
    "execution_start": 1629360672286,
    "output_cleared": true,
    "source_hash": "ee6dfbab",
    "tags": []
   },
   "outputs": [
    {
     "name": "stdout",
     "output_type": "stream",
     "text": [
      "This is your requested plot for Campaign ID 1210.\n",
      "Age group with the highest total spent is 45-49, while the lowest is 35-39.\n",
      "Age group with the highest total approved conversion is 30-34, while the lowest is 35-39.\n",
      "Age group with the highest average CPC is 45-49, while the lowest is 30-34.\n",
      "\n"
     ]
    }
   ],
   "source": [
    "# VOICE MESSAGE\n",
    "plot_info = list(zip(\n",
    "    ['total spent', 'total approved conversion', 'average CPC'],\n",
    "    df_plot.idxmax(),\n",
    "    df_plot.idxmin()))\n",
    "\n",
    "plot_text = f'This is your requested plot for Campaign ID {selected_campaign_id}.\\n'\n",
    "for col, maxi, mini in plot_info:\n",
    "    text = f\"Age group with the highest {col} is {maxi}, while the lowest is {mini}.\\n\"\n",
    "    plot_text += text\n",
    "\n",
    "print(plot_text)"
   ]
  },
  {
   "cell_type": "markdown",
   "metadata": {
    "cell_id": "00075-1e79fe5c-390b-4a61-89ee-d9e94a6de3ef",
    "deepnote_cell_type": "markdown",
    "tags": []
   },
   "source": [
    "**EXPECTED OUTPUT:**\n",
    "\n",
    "```\n",
    "This is your requested plot for Campaign ID 1210.\n",
    "Age group with the highest total spent is 45-49, while the lowest is 35-39.\n",
    "Age group with the highest total approved conversion is 30-34, while the lowest is 35-39.\n",
    "Age group with the highest average CPC is 45-49, while the lowest is 30-34.\n",
    "```"
   ]
  },
  {
   "cell_type": "markdown",
   "metadata": {
    "cell_id": "00076-c2d784f4-a5ff-49b1-9eb0-6ff9cdddc07d",
    "deepnote_cell_type": "markdown",
    "tags": []
   },
   "source": [
    "The text above will be sent to the user as voice message. By using `gTTS` library (which stands for Google Text-to-Speech), we can convert `plot_text` to a speech. We will save the speech into `.ogg` file (extension for voice note) by using `.save()` method provided on the skeleton file as follow:\n",
    "\n",
    "```\n",
    "speech = gTTS(text = plot_text)\n",
    "speech.save('output/plot_info.ogg')\n",
    "```\n",
    "\n",
    "> Package dependencies: [gTTS](https://gtts.readthedocs.io/en/latest/module.html#module-gtts.tts)\n",
    "\n",
    "The voice message will be sent to the user by using `bot.send_voice()` method provided on the skeleton file:\n",
    "\n",
    "```\n",
    "with open('output/plot_info.ogg', 'rb') as f:\n",
    "    bot.send_voice(chat_id, f)\n",
    "```"
   ]
  },
  {
   "cell_type": "markdown",
   "metadata": {
    "cell_id": "00077-ef6865d1-7a7f-4304-8dc4-1423e0e4a360",
    "deepnote_cell_type": "markdown",
    "tags": []
   },
   "source": [
    "**EXPECTED OUTPUT:** Run the following cell and play the audio to hear the final output of the voice message. You don't have to put the following code in your script."
   ]
  },
  {
   "cell_type": "code",
   "execution_count": 63,
   "metadata": {
    "cell_id": "00078-3e54faaf-5a9f-4df4-a8bf-7df1332c1d24",
    "deepnote_cell_type": "code",
    "deepnote_to_be_reexecuted": false,
    "execution_millis": 20,
    "execution_start": 1629362038087,
    "output_cleared": true,
    "source_hash": "4e87712c",
    "tags": []
   },
   "outputs": [
    {
     "data": {
      "text/html": [
       "\n",
       "                <audio  controls=\"controls\" >\n",
       "                    <source src=\"data:audio/ogg;base64,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\" type=\"audio/ogg\" />\n",
       "                    Your browser does not support the audio element.\n",
       "                </audio>\n",
       "              "
      ],
      "text/plain": [
       "<IPython.lib.display.Audio object>"
      ]
     },
     "execution_count": 63,
     "metadata": {},
     "output_type": "execute_result"
    }
   ],
   "source": [
    "from IPython.display import Audio\n",
    "Audio('assets/plot_info.ogg')"
   ]
  },
  {
   "cell_type": "markdown",
   "metadata": {
    "cell_id": "00079-c07bad5f-3183-47e7-836d-b259d7d9bb29",
    "deepnote_cell_type": "markdown",
    "tags": []
   },
   "source": [
    "---\n",
    "\n",
    "📍 **CHECKPOINT 3**\n",
    "\n",
    "If you have done the extra challenge, copy and paste your code inside `send_plot` function so that the bot will send voice message after the plot is being sent.\n",
    "\n",
    "Run your Python script and test how your Telegram bot works.\n",
    "\n",
    "---"
   ]
  },
  {
   "cell_type": "markdown",
   "metadata": {
    "cell_id": "00080-585126fa-c188-433d-9d95-15dd13c471e3",
    "deepnote_cell_type": "markdown",
    "tags": []
   },
   "source": [
    "## Default Message Handler"
   ]
  },
  {
   "cell_type": "markdown",
   "metadata": {
    "cell_id": "00081-ed1e7724-6155-4e5b-a228-47c111f7239d",
    "deepnote_cell_type": "markdown",
    "tags": []
   },
   "source": [
    "From the point of view of a sender, they expect that every message to be responded. Therefore, we need to create a **default message handler** that will handle cases outside of the functionality that we provide.\n",
    "\n",
    "The function `echo_all` below serves as a default message handler, which echoes all incoming text messages back to the sender. It uses a `lambda` function to test a message. If the `lambda` returns `True`, the message is handled by the function. Since we want all messages to be handled by `echo_all`, we simply always return `True`.\n",
    "\n",
    "**TO DO:**\n",
    "\n",
    "Try to execute the code cell below and test how the bot works by sending messages **other than /start or /help**."
   ]
  },
  {
   "cell_type": "code",
   "execution_count": null,
   "metadata": {
    "cell_id": "00082-2d3ec69a-fa1f-47d1-bc9c-396d387f2ecb",
    "deepnote_cell_type": "code",
    "deepnote_to_be_reexecuted": false,
    "execution_millis": 18,
    "execution_start": 1628154065466,
    "output_cleared": true,
    "source_hash": "e196b1cc",
    "tags": []
   },
   "outputs": [],
   "source": [
    "import telebot\n",
    "bot = telebot.TeleBot(TOKEN)\n",
    "\n",
    "@bot.message_handler(commands=['start', 'help'])\n",
    "def send_welcome(message):\n",
    "    bot.reply_to(message, \"Hello World!\")\n",
    "\n",
    "# FOCUS ON THIS PART\n",
    "@bot.message_handler(func=lambda m: True)\n",
    "def echo_all(message):\n",
    "\tbot.reply_to(message, \"This is echo_all function\")\n",
    "\n",
    "# bot.polling()"
   ]
  },
  {
   "cell_type": "markdown",
   "metadata": {
    "cell_id": "00083-e8408311-7a13-47f8-a04d-8cb91a672a28",
    "deepnote_cell_type": "markdown",
    "tags": []
   },
   "source": [
    "**NOTE:** all message handlers are tested in the order in which they were declared, so it is a common practice to put the `echo_all` function at the very bottom of the Python script."
   ]
  },
  {
   "cell_type": "markdown",
   "metadata": {
    "cell_id": "00084-f7ca1733-55a7-4da2-9079-084d0eb27524",
    "deepnote_cell_type": "markdown",
    "tags": []
   },
   "source": [
    "## Emoji"
   ]
  },
  {
   "cell_type": "markdown",
   "metadata": {
    "cell_id": "00085-bf7bb8da-997e-4d2b-90e0-cb3d1eca98c3",
    "deepnote_cell_type": "markdown",
    "tags": []
   },
   "source": [
    "Who doesn't love to use emojis while chatting? We often use '👍' to express good/okay or even '💖' to express love. It can affect how people communicate via text messages as we read them as a form of emotional communication, not words. The entire set of Emoji codes as defined by the [Unicode Consortium](https://unicode.org/consortium/consort.html) is supported in addition to a bunch of aliases.\n",
    "\n",
    "We want our bot to be able to send an emoji inside the default message handler. By using the `.emojize()` method from package `emoji`, we can translate emoji aliases to its graphical representation. See the example below, the emoji alias `:snake:` is translated into 🐍.\n",
    "\n",
    "> Package dependencies: [emoji](https://pypi.org/project/emoji/)"
   ]
  },
  {
   "cell_type": "code",
   "execution_count": 64,
   "metadata": {
    "cell_id": "00086-847fcf75-9b8f-4f52-9a3b-fbc86a48bddc",
    "deepnote_cell_type": "code",
    "deepnote_to_be_reexecuted": false,
    "execution_millis": 19,
    "execution_start": 1629362669796,
    "output_cleared": true,
    "source_hash": "b65cf0c4",
    "tags": []
   },
   "outputs": [
    {
     "data": {
      "text/plain": [
       "'Python is 🐍'"
      ]
     },
     "execution_count": 64,
     "metadata": {},
     "output_type": "execute_result"
    }
   ],
   "source": [
    "import emoji\n",
    "emoji.emojize('Python is :snake:')"
   ]
  },
  {
   "cell_type": "markdown",
   "metadata": {
    "cell_id": "00087-028dacd0-da10-476d-b63a-d499be9221e2",
    "deepnote_cell_type": "markdown",
    "tags": []
   },
   "source": [
    "**TO DO:**\n",
    "\n",
    "Try to complete the following message from `template_text/default.txt` with an appropriate emoji:\n",
    "\n",
    "```\n",
    "Sorry, I don't understand your message ${EMOJI}\n",
    "Use /help to see the list of available commands.\n",
    "```\n",
    "\n",
    "Scan through the list of all available emoji here: https://carpedm20.github.io/emoji/"
   ]
  },
  {
   "cell_type": "code",
   "execution_count": 65,
   "metadata": {
    "cell_id": "00088-6f59eff5-3e5a-4e9d-be5b-ec53003cb782",
    "deepnote_cell_type": "code",
    "deepnote_to_be_reexecuted": false,
    "execution_millis": 14,
    "execution_start": 1629362688184,
    "output_cleared": true,
    "source_hash": "44b192b",
    "tags": []
   },
   "outputs": [
    {
     "name": "stdout",
     "output_type": "stream",
     "text": [
      "Sorry, I don't understand your message 🐍\n",
      "Use /help to see the list of available commands.\n"
     ]
    }
   ],
   "source": [
    "# TO DO: emoji\n",
    "with open('template_text/default.txt', mode='r', encoding='utf-8') as f:\n",
    "        temp = Template(f.read())\n",
    "        default = temp.substitute(EMOJI = emoji.emojize(':snake:'))\n",
    "\n",
    "print(default)"
   ]
  },
  {
   "cell_type": "markdown",
   "metadata": {
    "cell_id": "00089-6c95feb2-2295-4ec7-bcdc-3ffd0fe7ed75",
    "deepnote_cell_type": "markdown",
    "tags": []
   },
   "source": [
    "---\n",
    "\n",
    "📍 **CHECKPOINT 4**\n",
    "\n",
    "At this point, you have already understood how to:\n",
    "\n",
    "- Use default message handler\n",
    "- Use emoji in a text message programmatically\n",
    "\n",
    "Now, complete `echo_all` function inside `bot_local.py` that will send a default message when the text message by the sender is other than **/start**, **/help**, **/about**, **/summary**, or **/plot**.\n",
    "\n",
    "Run your Python script and test how your Telegram bot works. Make sure **all functionalities** of your bot run smoothly without error before going to the Deployment section.\n",
    "\n",
    "---"
   ]
  },
  {
   "cell_type": "markdown",
   "metadata": {
    "cell_id": "00090-9bc9bdec-4aea-4c60-85d3-bdb90ee43d97",
    "deepnote_cell_type": "markdown",
    "tags": []
   },
   "source": [
    "# Deployment"
   ]
  },
  {
   "attachments": {},
   "cell_type": "markdown",
   "metadata": {
    "cell_id": "00091-d2c8365d-97d5-4a96-bef6-05c91341b710",
    "deepnote_cell_type": "markdown",
    "tags": []
   },
   "source": [
    "Congratulations! At this point, you have finished creating a Telegram bot. But if you are aware, you have to run the code continuously on a local computer to keep the bot active. Well, in this section we will learn how to serve your Python script as an application that can be run on a server. This process is also known as **deployment**, which is one of the software development activities that enable a system to be available for use by the intended users.\n",
    "\n",
    "Later, we are going to deploy the Python script to PythonAnywhere server:\n",
    "\n",
    "![](assets/telebot_request_response_pythonanywhere.png)"
   ]
  },
  {
   "cell_type": "markdown",
   "metadata": {
    "cell_id": "00092-8fc270ea-8a66-4887-806e-af5678d5d850",
    "deepnote_cell_type": "markdown",
    "tags": []
   },
   "source": [
    "## Flask (Web Framework)"
   ]
  },
  {
   "cell_type": "markdown",
   "metadata": {
    "cell_id": "00093-8a403bb4-f4b3-48b5-9de7-3368fe3eeb38",
    "deepnote_cell_type": "markdown",
    "tags": []
   },
   "source": [
    "You will need a web framework to serve the Python script as a web application. `Flask` is one of them, it is a micro web framework written in Python. The word \"micro\" means it does not require particular tools or libraries. A minimal Flask application looks something like this:"
   ]
  },
  {
   "cell_type": "code",
   "execution_count": 66,
   "metadata": {
    "cell_id": "00094-0b9ca8ab-c2fd-42bc-8227-3aec071303bd",
    "deepnote_cell_type": "code",
    "deepnote_to_be_reexecuted": false,
    "execution_millis": 1010,
    "execution_start": 1628154065581,
    "output_cleared": true,
    "source_hash": "fffe09cc",
    "tags": []
   },
   "outputs": [
    {
     "name": "stdout",
     "output_type": "stream",
     "text": [
      " * Serving Flask app '__main__'\n",
      " * Debug mode: off\n"
     ]
    },
    {
     "name": "stderr",
     "output_type": "stream",
     "text": [
      "WARNING: This is a development server. Do not use it in a production deployment. Use a production WSGI server instead.\n",
      " * Running on http://127.0.0.1:5000\n",
      "Press CTRL+C to quit\n"
     ]
    }
   ],
   "source": [
    "from flask import Flask\n",
    "app = Flask(__name__)\n",
    "\n",
    "@app.route(\"/\")\n",
    "def hello():\n",
    "    return \"Hello World!\"\n",
    "\n",
    "@app.route(\"/home\")\n",
    "def home():\n",
    "    return \"This is home page.\"\n",
    "\n",
    "if __name__ == \"__main__\":\n",
    "    app.run()"
   ]
  },
  {
   "cell_type": "markdown",
   "metadata": {
    "cell_id": "00095-83bc4697-a9df-4879-9251-d3db52d2da36",
    "deepnote_cell_type": "markdown",
    "tags": []
   },
   "source": [
    "**TO DO:**\n",
    "\n",
    "Try to understand the code above by executing the cell code. You will be prompted with an URL such as `http://127.0.0.1:5000/`, click the link or access the web application via a browser. It will show a simple web application that displays \"Hello World!\"."
   ]
  },
  {
   "cell_type": "markdown",
   "metadata": {
    "cell_id": "00096-7dbde92c-c595-4196-a9a9-98d9803b2efe",
    "deepnote_cell_type": "markdown",
    "tags": []
   },
   "source": [
    "So what did that code do?\n",
    "\n",
    "1. We create an `app` object from the `Flask` class. This will be our web application. The first argument is the name of the application’s module or package. `__name__` is a convenient shortcut for this that is appropriate for most cases.\n",
    "\n",
    "2. We use `@app.route()` to tell `Flask` what URL should trigger the function. From the code above, there are two **endpoints**:\n",
    "\n",
    "    a. If the user access URL `\"/\"`, the function `hello()` will be triggered and return the string \"Hello World!\".\n",
    "\n",
    "    b. If the user access URL `\"/home\"`, the function `home()` will be triggered and return the string \"This is home page.\"\n",
    "\n",
    "    **NOTE:** The function can have an arbitrary name, however, make it as descriptive as possible.\n",
    "\n",
    "3. `app.run()` will run the application. If you run it locally, then the application will be served on the **localhost**. Additionally, conditional `if __name__ == \"__main__\"` is used to prevent the app from being run when the modules are imported by another Python script.\n",
    "\n",
    "> Package dependencies: [Flask](https://flask.palletsprojects.com/en/2.0.x/)"
   ]
  },
  {
   "cell_type": "markdown",
   "metadata": {
    "cell_id": "00097-4b39fd7f-edc4-46be-8aa5-96f6c616eb95",
    "deepnote_cell_type": "markdown",
    "tags": []
   },
   "source": [
    "**TO DO:**\n",
    "\n",
    "Open `app.py` and try to understand the code structure. You **do not need** to run the script.\n",
    "\n",
    "Notice the following points on the Python script:\n",
    "\n",
    "1. We are using the `bot` object which is imported from `bot_local.py`.\n",
    "2. `bot.polling()` is no longer used, instead we use `bot.process_new_updates()` and `bot.set_webhook()`"
   ]
  },
  {
   "cell_type": "markdown",
   "metadata": {
    "cell_id": "00098-4264fdaa-07a2-4962-b912-5d80e940c0d7",
    "deepnote_cell_type": "markdown",
    "tags": []
   },
   "source": [
    "## Webhook"
   ]
  },
  {
   "cell_type": "markdown",
   "metadata": {
    "cell_id": "00099-52f4a89c-e368-4312-8c29-cbb606a08492",
    "deepnote_cell_type": "markdown",
    "tags": []
   },
   "source": [
    "Instead of using the polling mechanism as you have already completed in `bot_local.py`, we are going to use the webhook mechanism in `app.py`.\n",
    "\n",
    "![](assets/polling_vs_webhook.png)\n",
    "\n",
    "Source: [Cloud Elements](https://blog.cloud-elements.com/webhooks-vs-polling-youre-better-than-this)\n",
    "\n",
    "**Polling (pull) mechanism:** Your app will check the Telegram server whether there is any new data or not. This means the process is exhaustive and there are chances that a chat won't be processed immediately until the next polling occurs in the endpoint.\n",
    "\n",
    "**Webhook (push) mechanism:** The endpoint will notify your app when there is new data to be processed. Since event data is posted immediately to your monitored URL, the app will automatically update itself with the new data almost instantly.\n",
    "\n",
    "> To gain an in-depth understanding of Telegram webhook, please visit: https://core.telegram.org/bots/webhooks"
   ]
  },
  {
   "cell_type": "markdown",
   "metadata": {
    "cell_id": "00100-88228194-a5e2-4114-a97d-c6d42f674c27",
    "deepnote_cell_type": "markdown",
    "tags": []
   },
   "source": [
    "When using Telegram webhook, it sends one update per call. You should use `bot.process_new_messages([update.message])` when you receive it on your application.\n",
    "\n",
    "When using `bot.set_webhook()`, we need to use a publically available URL that the Telegram servers can reach. Therefore, in the next section, we'll create a PythonAnywhere project.\n",
    "\n",
    "> Code `app.py` is adapted from: https://github.com/eternnoir/pyTelegramBotAPI/blob/master/examples/webhook_examples/webhook_flask_heroku_echo.py with some adjustment for PythonAnywhere"
   ]
  },
  {
   "attachments": {},
   "cell_type": "markdown",
   "metadata": {},
   "source": [
    "## Preparation"
   ]
  },
  {
   "attachments": {},
   "cell_type": "markdown",
   "metadata": {},
   "source": [
    "Make sure the following files and folders are in your project folder, and ready for deployment:\n",
    "\n",
    "- Folders:\n",
    "    - [ ]  `data_input`: Dataset for analysis\n",
    "    - [ ]  `template_text`: Text files for chat template\n",
    "- Application-related Files:\n",
    "    - [ ]  `app.py`: Main `Flask` application\n",
    "    - [ ]  `bot_local.py`: Telegram bot\n",
    "- Deployment-related Files:\n",
    "    - [ ]  `Procfile`: Commands for app's dynos on PythonAnywhere\n",
    "    - [ ]  `requirements.txt`: List of package dependencies to be installed on PythonAnywhere\n",
    "    - [ ]  `runtime.txt`: Python version to be installed on PythonAnywhere\n",
    "    - [ ]  `.gitignore`: List of file extensions to be ignored when project is being `git push` (uploaded) from local. Steps:\n",
    "        - i. Inside the project folder, create a new file named `.gitignore`.\n",
    "        - ii. Open the `.gitignore` file using any kind of text editor application, such as notepad\n",
    "        - iii. Paste the following content inside `.gitignore`\n",
    "            \n",
    "            ```\n",
    "            # Jupyter Notebook\n",
    "            .ipynb_checkpoints\n",
    "            \n",
    "            # Environments\n",
    "            .env\n",
    "            ```\n",
    "            "
   ]
  },
  {
   "attachments": {},
   "cell_type": "markdown",
   "metadata": {},
   "source": [
    "## GitHub Repository"
   ]
  },
  {
   "attachments": {},
   "cell_type": "markdown",
   "metadata": {},
   "source": [
    "************TO DO:************ Make a new GitHub repository and push/upload your file\n",
    "\n",
    "1. Register a GitHub account, visit [https://github.com](https://github.com/signup) (skip this if you already have an account)\n",
    "2. Create a new repository. Repository is a folder to contain files for a project. Fill in the repository name and leave the rest as default.\n",
    "   \n",
    "   ![](assets\\github\\1.png)\n",
    "   \n",
    "   ![](assets\\github\\2.png)\n",
    "   \n",
    "   ![](assets\\github\\3.png)\n",
    "\n",
    "3. Upload your files to the new repository by clicking “uploading an existing file”\n",
    "   \n",
    "   ![](assets\\github\\4.png)\n",
    "   \n",
    "   Commit the uploaded files\n",
    "   \n",
    "   ![](assets\\github\\5.png)\n",
    "\n"
   ]
  },
  {
   "cell_type": "markdown",
   "metadata": {
    "cell_id": "00101-a7ddf4c6-0faa-4cb7-983f-9ec617ce8ea5",
    "deepnote_cell_type": "markdown",
    "tags": []
   },
   "source": [
    "## PythonAnywhere"
   ]
  },
  {
   "cell_type": "markdown",
   "metadata": {
    "cell_id": "00102-bf739cad-8646-4a35-8267-6def44ae5565",
    "deepnote_cell_type": "markdown",
    "tags": []
   },
   "source": [
    "**[PythonAnywhere](https://www.pythonanywhere.com/)** is a platform as a service (PaaS) that allows developers to develop, host, and run Python applications entirely in the cloud. We'll deploy our Flask app to PythonAnywhere, utilizing the **free tier offered**"
   ]
  },
  {
   "attachments": {},
   "cell_type": "markdown",
   "metadata": {
    "cell_id": "00104-323db69f-7e22-4795-a6f7-bd333aefc66c",
    "deepnote_cell_type": "markdown",
    "tags": []
   },
   "source": [
    "**TO DO:** Please register a PythonAnywhere account. If you already have it, you can skip this section and just click [**Login**](https://www.pythonanywhere.com/login/?next=/)\n",
    "\n",
    "1. Visit [https://pythonanywhere.com](https://pythonanywhere.com)\n",
    "2. Sign up for a new account by click [**Pricing & sign up**](https://www.pythonanywhere.com/pricing/). Then, you'll see option **Create a Beginner account**\n",
    "\n",
    "![](assets/pythonanywhere/1-create-beginner.png)\n",
    " \n",
    "3. Then, to create your account, simply fill in your desired username, email, password (twice), agree to the Terms and Conditions and Privacy Policy and confirm your age.\n",
    "\n",
    "![](assets/pythonanywhere/2-create-account.png)\n",
    "   \n",
    "4. After signing in, you'll be directed to the dashboard page.\n",
    "\n",
    "![](assets/pythonanywhere/3-dashboard.png)"
   ]
  },
  {
   "attachments": {},
   "cell_type": "markdown",
   "metadata": {
    "cell_id": "00107-4d628b4d-df6e-4cdf-88f0-32822d3fc8ce",
    "deepnote_cell_type": "markdown",
    "tags": []
   },
   "source": [
    "## Deploy the app"
   ]
  },
  {
   "cell_type": "markdown",
   "metadata": {
    "cell_id": "00108-6f2dd29b-f3e6-46a7-bfc3-c7a9bf35cf58",
    "deepnote_cell_type": "markdown",
    "tags": []
   },
   "source": [
    "**TO DO:** Deploy a `Flask` app to PythonAnywhere\n",
    "\n",
    "1. Click on \"Web\" to access web app configuration.\n",
    "\n",
    "    ![Step 1](assets/pythonanywhere/4-click-web.png)\n",
    "\n",
    "2. Click \"Add a new web app\".\n",
    "\n",
    "3. Just click \"Next\" for the web app's domain name section. After that, select **\"Manual Configuration\"**.\n",
    "\n",
    "    ![Step 3](assets/pythonanywhere/6-manual.png)\n",
    "\n",
    "4. Ensure you select the appropriate Python version, matching the version specified in your `runtime.txt` file, which in this case is Python 3.10.\n",
    "\n",
    "    ![Step 4](assets/pythonanywhere/7-python-310.png)\n",
    "\n",
    "5. After completing the previous step, continue by clicking 'Next' until you are redirected back to the dashboard.\n",
    "\n",
    "    ![Step 5](assets/pythonanywhere/8-oke.png)\n",
    "\n",
    "6. Now, navigate to \"Files\".\n",
    "\n",
    "    ![Step 6](assets/pythonanywhere/9-files.png)\n",
    "\n",
    "7. Choose the option labeled \"Open bash console here\" to initiate the terminal.\n",
    "\n",
    "    ![Step 7](assets/pythonanywhere/10-open-bash.png)\n",
    "\n",
    "8. Clone your GitHub repository by executing the following command in the terminal. Replace `<repository_url>` with the URL of your GitHub repository.\n",
    "    ```bash\n",
    "    git clone <repository_url>\n",
    "    ```\n",
    "    Example `<repository_url>`: `https://github.com/algoritma/algo-telebot`\n",
    "\n",
    "9. After cloning, navigate to the cloned directory and install the required dependencies from the `requirements.txt` file using the following commands.\n",
    "    ```bash\n",
    "    cd <cloned_directory>\n",
    "    pip install -r requirements.txt\n",
    "    ```\n",
    "    Example `<cloned_directory>`: `algo-telebot`\n",
    "\n",
    "10. After the libraries was successfully installed, navigate to \"Files\".\n",
    "\n",
    "    ![Step 10](assets/pythonanywhere/10-files-after-bash.png)\n",
    "\n",
    "11. Open your cloned directory (1), choose the **Upload a file** button (2), and upload the `.env` file that stores your Telegram bot token (3).  \n",
    "\n",
    "    ![Step 11](assets/pythonanywhere/12-upload-env.png)\n",
    "\n",
    "12. Return to \"Web\"\n",
    "\n",
    "**NOTE:** Remember to replace `<repository_url>` with the URL of your GitHub repository and `<cloned_directory>` with the name of the directory created after cloning your repository.\n",
    "\n",
    "13. Under the \"Code\" section, change the working and source directory to your GitHub directory after cloning.\n",
    "   \n",
    "**BEFORE ➡️**\n",
    "    ![Step 13 Before](assets/pythonanywhere/12-code.png)\n",
    "\n",
    "**AFTER ➡️**\n",
    "    ![Step 13 After](assets/pythonanywhere/12-code-after.png)\n",
    "\n",
    "**NOTE:** Make sure to write `home/your_username/your_directory`.\n",
    "\n",
    "14. Click the **WSGI configuration file** and scroll to the end of the file. Edit the code as shown.\n",
    "\n",
    "    ![Step 14](assets/pythonanywhere/13.png)\n",
    "\n",
    "15. Go to \"Web\" and reload your web app.  \n",
    "\n",
    "    ![Step 15](assets/pythonanywhere/14.png)\n",
    "\n",
    "16. Click the web app URL to ensure that it works.\n",
    "\n",
    "    ![Step 16](assets/pythonanywhere/15.png)\n",
    "\n",
    "By following these steps, you should have successfully deployed your Flask app on PythonAnywhere."
   ]
  },
  {
   "cell_type": "markdown",
   "metadata": {},
   "source": [
    "**NOTE:** \n",
    "Please note that your PythonAnywhere free website will be automatically shutdown if you don't log in and click the \"Run until 3 months from today\" button at least once every three months. They'll send you an email reminder a week before the site is disabled."
   ]
  },
  {
   "cell_type": "markdown",
   "metadata": {
    "cell_id": "00111-bdcd31d8-31b6-4db6-ac4e-1df0464af0af",
    "deepnote_cell_type": "markdown",
    "tags": []
   },
   "source": [
    "# (Optional) Common Issue"
   ]
  },
  {
   "cell_type": "markdown",
   "metadata": {
    "cell_id": "00112-0a39cd05-19f0-43b7-83ac-35aa22d146b7",
    "deepnote_cell_type": "markdown",
    "tags": []
   },
   "source": [
    "## Error\n",
    "\n",
    "```\n",
    "ERROR - TeleBot: \"A request to the Telegram API was unsuccessful. Error code: 409. Description: Conflict: can't use getUpdates method while webhook is active; use deleteWebhook to delete the webhook first\"\n",
    "```\n",
    "\n",
    "## Problem\n",
    "\n",
    "Your token was previously attached to the PythonAnywhere app via `bot.set_webhook()`. Polling mode (with `getUpdates`) can only be run once at a time **and only if** Webhook is not set. In conclusion, you cannot run `bot.polling()` in local with the same token after your code is successfully deployed.\n",
    "\n",
    "## Solution\n",
    "\n",
    "If you decided to develop another functionality for your main chatbot, it is recommended to create a second bot for development. Then **overwrite** the `TOKEN` variable as follows:\n",
    "\n",
    "```\n",
    "load_dotenv()\n",
    "TOKEN = os.environ['TOKEN'] # token for main chatbot\n",
    "TOKEN = \"...\" # token for the development chatbot\n",
    "bot = telebot.TeleBot(TOKEN)\n",
    "```\n",
    "\n",
    "If you are planning to re-deploy your main chatbot to PythonAnywhere after you finished the development phase in local mode using `bot.polling()`, don't forget to **remove the token for the development chatbot** from `app.py` as follows:\n",
    "\n",
    "```\n",
    "load_dotenv()\n",
    "TOKEN = os.environ['TOKEN'] # token for main chatbot\n",
    "bot = telebot.TeleBot(TOKEN)\n",
    "```\n",
    "\n",
    "If you already re-deploy the app then somehow forget to remove the token for the development chatbot from the previous step and you don't want to create a new bot account, the alternative solution is to **revoke the access token** so that the chatbot can be re-use for later development:\n",
    "\n",
    "1. Go to BotFather: http://t.me/BotFather\n",
    "2. Use the command `/revoke`\n",
    "3. Choose your development bot username\n",
    "4. BotFather will reset the TOKEN"
   ]
  },
  {
   "cell_type": "markdown",
   "metadata": {},
   "source": [
    "## Alternative: Gitpod"
   ]
  },
  {
   "cell_type": "markdown",
   "metadata": {},
   "source": [
    "Gitpod is a platform to run an app straightly from your GitHub repository. The caveat of Gitpod is that **it does not deploy the app continuously**. Once you close your Gitpod Workspace, the app would shut down in three minutes. You can run your app again by opening the Gitpod Workspace."
   ]
  },
  {
   "cell_type": "markdown",
   "metadata": {},
   "source": [
    "**TO DO:** Make a Gitpod Workspace\n",
    "\n",
    "1. Go to your GitHub repository and add **gitpod.io/#** in front of your repository link. For example: gitpod.io/#https://github.com/myusername/myrepository\n",
    "    \n",
    "    ![](assets/gitpod/1.png)\n",
    "    \n",
    "2. You will be redirected to Gitpod. Sign up with GitHub and continue with the rest of the process. Select the VS Code - Browser editor (default).\n",
    "    \n",
    "    ![](assets/gitpod/2.png)\n",
    "    \n",
    "3. If you are prompted to verify with mobile number, change the country code and insert your mobile number **without the first zero**. You will receive an OTP code sent to your phone. Continue with the rest of the verification process.\n",
    "4. Once you have landed on this page, it means that you have successfully made a Gitpod Workspace!\n",
    "    \n",
    "    ![](assets/gitpod/3.png)\n",
    "    \n",
    "5. Since GitHub does not contain a `.env` file, the next thing to do is to **upload your `.env` file** to the Gitpod Workspace. Drag and drop your `.env` file from your computer to the left panel of the Gitpod Workspace. Make sure that `.env` contains your `TOKEN` from BotFather.\n",
    "6. In the **TERMINAL**, type `python app.py` and press Enter to run the bot.\n",
    "\n",
    "    ![](assets/gitpod/4a.png)\n",
    "\n",
    "7. Click the **PORTS** tab next to the TERMINAL and do the following steps:\n",
    "    1. Click on the 🔒 icon to unlock the domain (make the domain publicly accessible). Once public, the icon would change to 🔓 and the State would change to “open (public)”\n",
    "    2. Click the 📄 icon to copy the domain URL\n",
    "    \n",
    "    ![](assets/gitpod/4b.png)\n",
    "    \n",
    "8. Open `app.py` and paste the domain URL to fill the `public_domain` variable\n",
    "9. Stop the app by pressing **CTRL + C** in the TERMINAL, and run the app again by typing `python app.py` and press Enter\n",
    "10. Your bot should be up and running by now! To verify if your bot runs correctly, click on the link in the PORTS tab. It will open a new window and you should see **“Bot is running”**.\n",
    "\n",
    "    ![](assets/gitpod/5a.png)\n",
    "\n",
    "11. Finally, you can share your Gitpod Workspace by clicking the **Share** button on the bottom left. You should see this warning:\n",
    "\n",
    "    ![](assets/gitpod/6a.png)\n",
    "\n",
    "      Click “Share”.\n",
    "\n",
    "1. Copy your Workspace URL to be submitted via Google Classroom. The URL should look like https://myusername-myrepository-xxxxxxxxxxx.ws-usxx.gitpod.io\n",
    "\n",
    "    ![](assets/gitpod/6b.png)"
   ]
  }
 ],
 "metadata": {
  "deepnote": {
   "is_reactive": false
  },
  "deepnote_execution_queue": [],
  "deepnote_notebook_id": "72cfd8e6-ebbd-4e48-a3e1-6b3347e78df3",
  "kernelspec": {
   "display_name": "capstone-telebot",
   "language": "python",
   "name": "python3"
  },
  "language_info": {
   "codemirror_mode": {
    "name": "ipython",
    "version": 3
   },
   "file_extension": ".py",
   "mimetype": "text/x-python",
   "name": "python",
   "nbconvert_exporter": "python",
   "pygments_lexer": "ipython3",
   "version": "3.10.16"
  },
  "orig_nbformat": 2
 },
 "nbformat": 4,
 "nbformat_minor": 2
}
